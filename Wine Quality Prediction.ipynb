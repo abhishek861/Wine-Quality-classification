{
 "cells": [
  {
   "cell_type": "code",
   "execution_count": 4,
   "id": "e8bf4941",
   "metadata": {},
   "outputs": [],
   "source": [
    "import pandas as pd\n",
    "import numpy as np\n",
    "from matplotlib import pyplot as plt\n",
    "import seaborn as sns\n",
    "import tensorflow as tf\n",
    "from tensorflow.keras.layers import Dense,Dropout\n",
    "from tensorflow.keras.models import Sequential\n",
    "from sklearn.model_selection import train_test_split\n",
    "from sklearn.svm import SVC\n",
    "from sklearn.metrics import classification_report\n",
    "from sklearn.preprocessing import StandardScaler\n",
    "from xgboost import XGBClassifier\n",
    "from tensorflow.keras.utils import to_categorical\n",
    "from sklearn.linear_model import LinearRegression\n",
    "from sklearn.ensemble import RandomForestRegressor\n",
    "from sklearn.ensemble import RandomForestClassifier\n",
    "from sklearn.model_selection import GridSearchCV\n",
    "from sklearn.tree import DecisionTreeClassifier\n",
    "from sklearn.utils import resample\n",
    "import imblearn\n",
    "from imblearn.over_sampling import SMOTE"
   ]
  },
  {
   "cell_type": "code",
   "execution_count": 5,
   "id": "dfcb9995",
   "metadata": {},
   "outputs": [],
   "source": [
    "df_red = pd.read_csv('winequality-red.csv',sep=\";\")\n",
    "df_white = pd.read_csv('winequality-white.csv',sep=\";\")"
   ]
  },
  {
   "cell_type": "code",
   "execution_count": 6,
   "id": "09eed4cf",
   "metadata": {},
   "outputs": [
    {
     "name": "stdout",
     "output_type": "stream",
     "text": [
      "(1599, 12) (4898, 12)\n"
     ]
    }
   ],
   "source": [
    "print(df_red.shape,df_white.shape)"
   ]
  },
  {
   "cell_type": "code",
   "execution_count": 7,
   "id": "d59b8a3b",
   "metadata": {},
   "outputs": [
    {
     "data": {
      "text/html": [
       "<div>\n",
       "<style scoped>\n",
       "    .dataframe tbody tr th:only-of-type {\n",
       "        vertical-align: middle;\n",
       "    }\n",
       "\n",
       "    .dataframe tbody tr th {\n",
       "        vertical-align: top;\n",
       "    }\n",
       "\n",
       "    .dataframe thead th {\n",
       "        text-align: right;\n",
       "    }\n",
       "</style>\n",
       "<table border=\"1\" class=\"dataframe\">\n",
       "  <thead>\n",
       "    <tr style=\"text-align: right;\">\n",
       "      <th></th>\n",
       "      <th>fixed acidity</th>\n",
       "      <th>volatile acidity</th>\n",
       "      <th>citric acid</th>\n",
       "      <th>residual sugar</th>\n",
       "      <th>chlorides</th>\n",
       "      <th>free sulfur dioxide</th>\n",
       "      <th>total sulfur dioxide</th>\n",
       "      <th>density</th>\n",
       "      <th>pH</th>\n",
       "      <th>sulphates</th>\n",
       "      <th>alcohol</th>\n",
       "      <th>quality</th>\n",
       "    </tr>\n",
       "  </thead>\n",
       "  <tbody>\n",
       "    <tr>\n",
       "      <th>0</th>\n",
       "      <td>7.4</td>\n",
       "      <td>0.70</td>\n",
       "      <td>0.00</td>\n",
       "      <td>1.9</td>\n",
       "      <td>0.076</td>\n",
       "      <td>11.0</td>\n",
       "      <td>34.0</td>\n",
       "      <td>0.9978</td>\n",
       "      <td>3.51</td>\n",
       "      <td>0.56</td>\n",
       "      <td>9.4</td>\n",
       "      <td>5</td>\n",
       "    </tr>\n",
       "    <tr>\n",
       "      <th>1</th>\n",
       "      <td>7.8</td>\n",
       "      <td>0.88</td>\n",
       "      <td>0.00</td>\n",
       "      <td>2.6</td>\n",
       "      <td>0.098</td>\n",
       "      <td>25.0</td>\n",
       "      <td>67.0</td>\n",
       "      <td>0.9968</td>\n",
       "      <td>3.20</td>\n",
       "      <td>0.68</td>\n",
       "      <td>9.8</td>\n",
       "      <td>5</td>\n",
       "    </tr>\n",
       "    <tr>\n",
       "      <th>2</th>\n",
       "      <td>7.8</td>\n",
       "      <td>0.76</td>\n",
       "      <td>0.04</td>\n",
       "      <td>2.3</td>\n",
       "      <td>0.092</td>\n",
       "      <td>15.0</td>\n",
       "      <td>54.0</td>\n",
       "      <td>0.9970</td>\n",
       "      <td>3.26</td>\n",
       "      <td>0.65</td>\n",
       "      <td>9.8</td>\n",
       "      <td>5</td>\n",
       "    </tr>\n",
       "    <tr>\n",
       "      <th>3</th>\n",
       "      <td>11.2</td>\n",
       "      <td>0.28</td>\n",
       "      <td>0.56</td>\n",
       "      <td>1.9</td>\n",
       "      <td>0.075</td>\n",
       "      <td>17.0</td>\n",
       "      <td>60.0</td>\n",
       "      <td>0.9980</td>\n",
       "      <td>3.16</td>\n",
       "      <td>0.58</td>\n",
       "      <td>9.8</td>\n",
       "      <td>6</td>\n",
       "    </tr>\n",
       "    <tr>\n",
       "      <th>4</th>\n",
       "      <td>7.4</td>\n",
       "      <td>0.70</td>\n",
       "      <td>0.00</td>\n",
       "      <td>1.9</td>\n",
       "      <td>0.076</td>\n",
       "      <td>11.0</td>\n",
       "      <td>34.0</td>\n",
       "      <td>0.9978</td>\n",
       "      <td>3.51</td>\n",
       "      <td>0.56</td>\n",
       "      <td>9.4</td>\n",
       "      <td>5</td>\n",
       "    </tr>\n",
       "  </tbody>\n",
       "</table>\n",
       "</div>"
      ],
      "text/plain": [
       "   fixed acidity  volatile acidity  citric acid  residual sugar  chlorides  \\\n",
       "0            7.4              0.70         0.00             1.9      0.076   \n",
       "1            7.8              0.88         0.00             2.6      0.098   \n",
       "2            7.8              0.76         0.04             2.3      0.092   \n",
       "3           11.2              0.28         0.56             1.9      0.075   \n",
       "4            7.4              0.70         0.00             1.9      0.076   \n",
       "\n",
       "   free sulfur dioxide  total sulfur dioxide  density    pH  sulphates  \\\n",
       "0                 11.0                  34.0   0.9978  3.51       0.56   \n",
       "1                 25.0                  67.0   0.9968  3.20       0.68   \n",
       "2                 15.0                  54.0   0.9970  3.26       0.65   \n",
       "3                 17.0                  60.0   0.9980  3.16       0.58   \n",
       "4                 11.0                  34.0   0.9978  3.51       0.56   \n",
       "\n",
       "   alcohol  quality  \n",
       "0      9.4        5  \n",
       "1      9.8        5  \n",
       "2      9.8        5  \n",
       "3      9.8        6  \n",
       "4      9.4        5  "
      ]
     },
     "execution_count": 7,
     "metadata": {},
     "output_type": "execute_result"
    }
   ],
   "source": [
    "df_red.head()"
   ]
  },
  {
   "cell_type": "code",
   "execution_count": 8,
   "id": "fe7d2aab",
   "metadata": {},
   "outputs": [
    {
     "data": {
      "text/html": [
       "<div>\n",
       "<style scoped>\n",
       "    .dataframe tbody tr th:only-of-type {\n",
       "        vertical-align: middle;\n",
       "    }\n",
       "\n",
       "    .dataframe tbody tr th {\n",
       "        vertical-align: top;\n",
       "    }\n",
       "\n",
       "    .dataframe thead th {\n",
       "        text-align: right;\n",
       "    }\n",
       "</style>\n",
       "<table border=\"1\" class=\"dataframe\">\n",
       "  <thead>\n",
       "    <tr style=\"text-align: right;\">\n",
       "      <th></th>\n",
       "      <th>fixed acidity</th>\n",
       "      <th>volatile acidity</th>\n",
       "      <th>citric acid</th>\n",
       "      <th>residual sugar</th>\n",
       "      <th>chlorides</th>\n",
       "      <th>free sulfur dioxide</th>\n",
       "      <th>total sulfur dioxide</th>\n",
       "      <th>density</th>\n",
       "      <th>pH</th>\n",
       "      <th>sulphates</th>\n",
       "      <th>alcohol</th>\n",
       "      <th>quality</th>\n",
       "    </tr>\n",
       "  </thead>\n",
       "  <tbody>\n",
       "    <tr>\n",
       "      <th>0</th>\n",
       "      <td>7.0</td>\n",
       "      <td>0.27</td>\n",
       "      <td>0.36</td>\n",
       "      <td>20.7</td>\n",
       "      <td>0.045</td>\n",
       "      <td>45.0</td>\n",
       "      <td>170.0</td>\n",
       "      <td>1.0010</td>\n",
       "      <td>3.00</td>\n",
       "      <td>0.45</td>\n",
       "      <td>8.8</td>\n",
       "      <td>6</td>\n",
       "    </tr>\n",
       "    <tr>\n",
       "      <th>1</th>\n",
       "      <td>6.3</td>\n",
       "      <td>0.30</td>\n",
       "      <td>0.34</td>\n",
       "      <td>1.6</td>\n",
       "      <td>0.049</td>\n",
       "      <td>14.0</td>\n",
       "      <td>132.0</td>\n",
       "      <td>0.9940</td>\n",
       "      <td>3.30</td>\n",
       "      <td>0.49</td>\n",
       "      <td>9.5</td>\n",
       "      <td>6</td>\n",
       "    </tr>\n",
       "    <tr>\n",
       "      <th>2</th>\n",
       "      <td>8.1</td>\n",
       "      <td>0.28</td>\n",
       "      <td>0.40</td>\n",
       "      <td>6.9</td>\n",
       "      <td>0.050</td>\n",
       "      <td>30.0</td>\n",
       "      <td>97.0</td>\n",
       "      <td>0.9951</td>\n",
       "      <td>3.26</td>\n",
       "      <td>0.44</td>\n",
       "      <td>10.1</td>\n",
       "      <td>6</td>\n",
       "    </tr>\n",
       "    <tr>\n",
       "      <th>3</th>\n",
       "      <td>7.2</td>\n",
       "      <td>0.23</td>\n",
       "      <td>0.32</td>\n",
       "      <td>8.5</td>\n",
       "      <td>0.058</td>\n",
       "      <td>47.0</td>\n",
       "      <td>186.0</td>\n",
       "      <td>0.9956</td>\n",
       "      <td>3.19</td>\n",
       "      <td>0.40</td>\n",
       "      <td>9.9</td>\n",
       "      <td>6</td>\n",
       "    </tr>\n",
       "    <tr>\n",
       "      <th>4</th>\n",
       "      <td>7.2</td>\n",
       "      <td>0.23</td>\n",
       "      <td>0.32</td>\n",
       "      <td>8.5</td>\n",
       "      <td>0.058</td>\n",
       "      <td>47.0</td>\n",
       "      <td>186.0</td>\n",
       "      <td>0.9956</td>\n",
       "      <td>3.19</td>\n",
       "      <td>0.40</td>\n",
       "      <td>9.9</td>\n",
       "      <td>6</td>\n",
       "    </tr>\n",
       "  </tbody>\n",
       "</table>\n",
       "</div>"
      ],
      "text/plain": [
       "   fixed acidity  volatile acidity  citric acid  residual sugar  chlorides  \\\n",
       "0            7.0              0.27         0.36            20.7      0.045   \n",
       "1            6.3              0.30         0.34             1.6      0.049   \n",
       "2            8.1              0.28         0.40             6.9      0.050   \n",
       "3            7.2              0.23         0.32             8.5      0.058   \n",
       "4            7.2              0.23         0.32             8.5      0.058   \n",
       "\n",
       "   free sulfur dioxide  total sulfur dioxide  density    pH  sulphates  \\\n",
       "0                 45.0                 170.0   1.0010  3.00       0.45   \n",
       "1                 14.0                 132.0   0.9940  3.30       0.49   \n",
       "2                 30.0                  97.0   0.9951  3.26       0.44   \n",
       "3                 47.0                 186.0   0.9956  3.19       0.40   \n",
       "4                 47.0                 186.0   0.9956  3.19       0.40   \n",
       "\n",
       "   alcohol  quality  \n",
       "0      8.8        6  \n",
       "1      9.5        6  \n",
       "2     10.1        6  \n",
       "3      9.9        6  \n",
       "4      9.9        6  "
      ]
     },
     "execution_count": 8,
     "metadata": {},
     "output_type": "execute_result"
    }
   ],
   "source": [
    "df_white.head()"
   ]
  },
  {
   "cell_type": "code",
   "execution_count": 9,
   "id": "f64fad3b",
   "metadata": {},
   "outputs": [],
   "source": [
    "#df _red"
   ]
  },
  {
   "cell_type": "code",
   "execution_count": 10,
   "id": "058d6496",
   "metadata": {},
   "outputs": [
    {
     "name": "stdout",
     "output_type": "stream",
     "text": [
      "<class 'pandas.core.frame.DataFrame'>\n",
      "RangeIndex: 1599 entries, 0 to 1598\n",
      "Data columns (total 12 columns):\n",
      " #   Column                Non-Null Count  Dtype  \n",
      "---  ------                --------------  -----  \n",
      " 0   fixed acidity         1599 non-null   float64\n",
      " 1   volatile acidity      1599 non-null   float64\n",
      " 2   citric acid           1599 non-null   float64\n",
      " 3   residual sugar        1599 non-null   float64\n",
      " 4   chlorides             1599 non-null   float64\n",
      " 5   free sulfur dioxide   1599 non-null   float64\n",
      " 6   total sulfur dioxide  1599 non-null   float64\n",
      " 7   density               1599 non-null   float64\n",
      " 8   pH                    1599 non-null   float64\n",
      " 9   sulphates             1599 non-null   float64\n",
      " 10  alcohol               1599 non-null   float64\n",
      " 11  quality               1599 non-null   int64  \n",
      "dtypes: float64(11), int64(1)\n",
      "memory usage: 150.0 KB\n"
     ]
    }
   ],
   "source": [
    "df_red.info()"
   ]
  },
  {
   "cell_type": "code",
   "execution_count": 11,
   "id": "7b47e438",
   "metadata": {},
   "outputs": [
    {
     "data": {
      "text/plain": [
       "0       5\n",
       "1       5\n",
       "2       5\n",
       "3       6\n",
       "4       5\n",
       "       ..\n",
       "1594    5\n",
       "1595    6\n",
       "1596    6\n",
       "1597    5\n",
       "1598    6\n",
       "Name: quality, Length: 1599, dtype: int64"
      ]
     },
     "execution_count": 11,
     "metadata": {},
     "output_type": "execute_result"
    }
   ],
   "source": [
    "df_red['quality']"
   ]
  },
  {
   "cell_type": "code",
   "execution_count": 12,
   "id": "15c28cc6",
   "metadata": {},
   "outputs": [
    {
     "data": {
      "text/plain": [
       "0       6\n",
       "1       6\n",
       "2       6\n",
       "3       6\n",
       "4       6\n",
       "       ..\n",
       "4893    6\n",
       "4894    5\n",
       "4895    6\n",
       "4896    7\n",
       "4897    6\n",
       "Name: quality, Length: 4898, dtype: int64"
      ]
     },
     "execution_count": 12,
     "metadata": {},
     "output_type": "execute_result"
    }
   ],
   "source": [
    "df_white['quality']"
   ]
  },
  {
   "cell_type": "code",
   "execution_count": 13,
   "id": "9a0460f0",
   "metadata": {},
   "outputs": [
    {
     "data": {
      "text/html": [
       "<div>\n",
       "<style scoped>\n",
       "    .dataframe tbody tr th:only-of-type {\n",
       "        vertical-align: middle;\n",
       "    }\n",
       "\n",
       "    .dataframe tbody tr th {\n",
       "        vertical-align: top;\n",
       "    }\n",
       "\n",
       "    .dataframe thead th {\n",
       "        text-align: right;\n",
       "    }\n",
       "</style>\n",
       "<table border=\"1\" class=\"dataframe\">\n",
       "  <thead>\n",
       "    <tr style=\"text-align: right;\">\n",
       "      <th></th>\n",
       "      <th>fixed acidity</th>\n",
       "      <th>volatile acidity</th>\n",
       "      <th>citric acid</th>\n",
       "      <th>residual sugar</th>\n",
       "      <th>chlorides</th>\n",
       "      <th>free sulfur dioxide</th>\n",
       "      <th>total sulfur dioxide</th>\n",
       "      <th>density</th>\n",
       "      <th>pH</th>\n",
       "      <th>sulphates</th>\n",
       "      <th>alcohol</th>\n",
       "      <th>quality</th>\n",
       "    </tr>\n",
       "  </thead>\n",
       "  <tbody>\n",
       "    <tr>\n",
       "      <th>fixed acidity</th>\n",
       "      <td>1.000000</td>\n",
       "      <td>-0.256131</td>\n",
       "      <td>0.671703</td>\n",
       "      <td>0.114777</td>\n",
       "      <td>0.093705</td>\n",
       "      <td>-0.153794</td>\n",
       "      <td>-0.113181</td>\n",
       "      <td>0.668047</td>\n",
       "      <td>-0.682978</td>\n",
       "      <td>0.183006</td>\n",
       "      <td>-0.061668</td>\n",
       "      <td>0.124052</td>\n",
       "    </tr>\n",
       "    <tr>\n",
       "      <th>volatile acidity</th>\n",
       "      <td>-0.256131</td>\n",
       "      <td>1.000000</td>\n",
       "      <td>-0.552496</td>\n",
       "      <td>0.001918</td>\n",
       "      <td>0.061298</td>\n",
       "      <td>-0.010504</td>\n",
       "      <td>0.076470</td>\n",
       "      <td>0.022026</td>\n",
       "      <td>0.234937</td>\n",
       "      <td>-0.260987</td>\n",
       "      <td>-0.202288</td>\n",
       "      <td>-0.390558</td>\n",
       "    </tr>\n",
       "    <tr>\n",
       "      <th>citric acid</th>\n",
       "      <td>0.671703</td>\n",
       "      <td>-0.552496</td>\n",
       "      <td>1.000000</td>\n",
       "      <td>0.143577</td>\n",
       "      <td>0.203823</td>\n",
       "      <td>-0.060978</td>\n",
       "      <td>0.035533</td>\n",
       "      <td>0.364947</td>\n",
       "      <td>-0.541904</td>\n",
       "      <td>0.312770</td>\n",
       "      <td>0.109903</td>\n",
       "      <td>0.226373</td>\n",
       "    </tr>\n",
       "    <tr>\n",
       "      <th>residual sugar</th>\n",
       "      <td>0.114777</td>\n",
       "      <td>0.001918</td>\n",
       "      <td>0.143577</td>\n",
       "      <td>1.000000</td>\n",
       "      <td>0.055610</td>\n",
       "      <td>0.187049</td>\n",
       "      <td>0.203028</td>\n",
       "      <td>0.355283</td>\n",
       "      <td>-0.085652</td>\n",
       "      <td>0.005527</td>\n",
       "      <td>0.042075</td>\n",
       "      <td>0.013732</td>\n",
       "    </tr>\n",
       "    <tr>\n",
       "      <th>chlorides</th>\n",
       "      <td>0.093705</td>\n",
       "      <td>0.061298</td>\n",
       "      <td>0.203823</td>\n",
       "      <td>0.055610</td>\n",
       "      <td>1.000000</td>\n",
       "      <td>0.005562</td>\n",
       "      <td>0.047400</td>\n",
       "      <td>0.200632</td>\n",
       "      <td>-0.265026</td>\n",
       "      <td>0.371260</td>\n",
       "      <td>-0.221141</td>\n",
       "      <td>-0.128907</td>\n",
       "    </tr>\n",
       "    <tr>\n",
       "      <th>free sulfur dioxide</th>\n",
       "      <td>-0.153794</td>\n",
       "      <td>-0.010504</td>\n",
       "      <td>-0.060978</td>\n",
       "      <td>0.187049</td>\n",
       "      <td>0.005562</td>\n",
       "      <td>1.000000</td>\n",
       "      <td>0.667666</td>\n",
       "      <td>-0.021946</td>\n",
       "      <td>0.070377</td>\n",
       "      <td>0.051658</td>\n",
       "      <td>-0.069408</td>\n",
       "      <td>-0.050656</td>\n",
       "    </tr>\n",
       "    <tr>\n",
       "      <th>total sulfur dioxide</th>\n",
       "      <td>-0.113181</td>\n",
       "      <td>0.076470</td>\n",
       "      <td>0.035533</td>\n",
       "      <td>0.203028</td>\n",
       "      <td>0.047400</td>\n",
       "      <td>0.667666</td>\n",
       "      <td>1.000000</td>\n",
       "      <td>0.071269</td>\n",
       "      <td>-0.066495</td>\n",
       "      <td>0.042947</td>\n",
       "      <td>-0.205654</td>\n",
       "      <td>-0.185100</td>\n",
       "    </tr>\n",
       "    <tr>\n",
       "      <th>density</th>\n",
       "      <td>0.668047</td>\n",
       "      <td>0.022026</td>\n",
       "      <td>0.364947</td>\n",
       "      <td>0.355283</td>\n",
       "      <td>0.200632</td>\n",
       "      <td>-0.021946</td>\n",
       "      <td>0.071269</td>\n",
       "      <td>1.000000</td>\n",
       "      <td>-0.341699</td>\n",
       "      <td>0.148506</td>\n",
       "      <td>-0.496180</td>\n",
       "      <td>-0.174919</td>\n",
       "    </tr>\n",
       "    <tr>\n",
       "      <th>pH</th>\n",
       "      <td>-0.682978</td>\n",
       "      <td>0.234937</td>\n",
       "      <td>-0.541904</td>\n",
       "      <td>-0.085652</td>\n",
       "      <td>-0.265026</td>\n",
       "      <td>0.070377</td>\n",
       "      <td>-0.066495</td>\n",
       "      <td>-0.341699</td>\n",
       "      <td>1.000000</td>\n",
       "      <td>-0.196648</td>\n",
       "      <td>0.205633</td>\n",
       "      <td>-0.057731</td>\n",
       "    </tr>\n",
       "    <tr>\n",
       "      <th>sulphates</th>\n",
       "      <td>0.183006</td>\n",
       "      <td>-0.260987</td>\n",
       "      <td>0.312770</td>\n",
       "      <td>0.005527</td>\n",
       "      <td>0.371260</td>\n",
       "      <td>0.051658</td>\n",
       "      <td>0.042947</td>\n",
       "      <td>0.148506</td>\n",
       "      <td>-0.196648</td>\n",
       "      <td>1.000000</td>\n",
       "      <td>0.093595</td>\n",
       "      <td>0.251397</td>\n",
       "    </tr>\n",
       "    <tr>\n",
       "      <th>alcohol</th>\n",
       "      <td>-0.061668</td>\n",
       "      <td>-0.202288</td>\n",
       "      <td>0.109903</td>\n",
       "      <td>0.042075</td>\n",
       "      <td>-0.221141</td>\n",
       "      <td>-0.069408</td>\n",
       "      <td>-0.205654</td>\n",
       "      <td>-0.496180</td>\n",
       "      <td>0.205633</td>\n",
       "      <td>0.093595</td>\n",
       "      <td>1.000000</td>\n",
       "      <td>0.476166</td>\n",
       "    </tr>\n",
       "    <tr>\n",
       "      <th>quality</th>\n",
       "      <td>0.124052</td>\n",
       "      <td>-0.390558</td>\n",
       "      <td>0.226373</td>\n",
       "      <td>0.013732</td>\n",
       "      <td>-0.128907</td>\n",
       "      <td>-0.050656</td>\n",
       "      <td>-0.185100</td>\n",
       "      <td>-0.174919</td>\n",
       "      <td>-0.057731</td>\n",
       "      <td>0.251397</td>\n",
       "      <td>0.476166</td>\n",
       "      <td>1.000000</td>\n",
       "    </tr>\n",
       "  </tbody>\n",
       "</table>\n",
       "</div>"
      ],
      "text/plain": [
       "                      fixed acidity  volatile acidity  citric acid  \\\n",
       "fixed acidity              1.000000         -0.256131     0.671703   \n",
       "volatile acidity          -0.256131          1.000000    -0.552496   \n",
       "citric acid                0.671703         -0.552496     1.000000   \n",
       "residual sugar             0.114777          0.001918     0.143577   \n",
       "chlorides                  0.093705          0.061298     0.203823   \n",
       "free sulfur dioxide       -0.153794         -0.010504    -0.060978   \n",
       "total sulfur dioxide      -0.113181          0.076470     0.035533   \n",
       "density                    0.668047          0.022026     0.364947   \n",
       "pH                        -0.682978          0.234937    -0.541904   \n",
       "sulphates                  0.183006         -0.260987     0.312770   \n",
       "alcohol                   -0.061668         -0.202288     0.109903   \n",
       "quality                    0.124052         -0.390558     0.226373   \n",
       "\n",
       "                      residual sugar  chlorides  free sulfur dioxide  \\\n",
       "fixed acidity               0.114777   0.093705            -0.153794   \n",
       "volatile acidity            0.001918   0.061298            -0.010504   \n",
       "citric acid                 0.143577   0.203823            -0.060978   \n",
       "residual sugar              1.000000   0.055610             0.187049   \n",
       "chlorides                   0.055610   1.000000             0.005562   \n",
       "free sulfur dioxide         0.187049   0.005562             1.000000   \n",
       "total sulfur dioxide        0.203028   0.047400             0.667666   \n",
       "density                     0.355283   0.200632            -0.021946   \n",
       "pH                         -0.085652  -0.265026             0.070377   \n",
       "sulphates                   0.005527   0.371260             0.051658   \n",
       "alcohol                     0.042075  -0.221141            -0.069408   \n",
       "quality                     0.013732  -0.128907            -0.050656   \n",
       "\n",
       "                      total sulfur dioxide   density        pH  sulphates  \\\n",
       "fixed acidity                    -0.113181  0.668047 -0.682978   0.183006   \n",
       "volatile acidity                  0.076470  0.022026  0.234937  -0.260987   \n",
       "citric acid                       0.035533  0.364947 -0.541904   0.312770   \n",
       "residual sugar                    0.203028  0.355283 -0.085652   0.005527   \n",
       "chlorides                         0.047400  0.200632 -0.265026   0.371260   \n",
       "free sulfur dioxide               0.667666 -0.021946  0.070377   0.051658   \n",
       "total sulfur dioxide              1.000000  0.071269 -0.066495   0.042947   \n",
       "density                           0.071269  1.000000 -0.341699   0.148506   \n",
       "pH                               -0.066495 -0.341699  1.000000  -0.196648   \n",
       "sulphates                         0.042947  0.148506 -0.196648   1.000000   \n",
       "alcohol                          -0.205654 -0.496180  0.205633   0.093595   \n",
       "quality                          -0.185100 -0.174919 -0.057731   0.251397   \n",
       "\n",
       "                       alcohol   quality  \n",
       "fixed acidity        -0.061668  0.124052  \n",
       "volatile acidity     -0.202288 -0.390558  \n",
       "citric acid           0.109903  0.226373  \n",
       "residual sugar        0.042075  0.013732  \n",
       "chlorides            -0.221141 -0.128907  \n",
       "free sulfur dioxide  -0.069408 -0.050656  \n",
       "total sulfur dioxide -0.205654 -0.185100  \n",
       "density              -0.496180 -0.174919  \n",
       "pH                    0.205633 -0.057731  \n",
       "sulphates             0.093595  0.251397  \n",
       "alcohol               1.000000  0.476166  \n",
       "quality               0.476166  1.000000  "
      ]
     },
     "execution_count": 13,
     "metadata": {},
     "output_type": "execute_result"
    }
   ],
   "source": [
    "df_red.corr()"
   ]
  },
  {
   "cell_type": "code",
   "execution_count": 14,
   "id": "05232d67",
   "metadata": {},
   "outputs": [
    {
     "data": {
      "text/plain": [
       "<matplotlib.collections.PathCollection at 0x20c756bab80>"
      ]
     },
     "execution_count": 14,
     "metadata": {},
     "output_type": "execute_result"
    },
    {
     "data": {
      "image/png": "[encoded data removed]",
      "text/plain": [
       "<Figure size 432x288 with 1 Axes>"
      ]
     },
     "metadata": {
      "needs_background": "light"
     },
     "output_type": "display_data"
    }
   ],
   "source": [
    "plt.scatter(df_red['citric acid'],df_red['fixed acidity'],s=10)"
   ]
  },
  {
   "cell_type": "code",
   "execution_count": 15,
   "id": "f3732a2e",
   "metadata": {},
   "outputs": [
    {
     "data": {
      "text/plain": [
       "<matplotlib.collections.PathCollection at 0x20c756827c0>"
      ]
     },
     "execution_count": 15,
     "metadata": {},
     "output_type": "execute_result"
    },
    {
     "data": {
      "image/png": "[encoded data removed]",
      "text/plain": [
       "<Figure size 432x288 with 1 Axes>"
      ]
     },
     "metadata": {
      "needs_background": "light"
     },
     "output_type": "display_data"
    }
   ],
   "source": [
    "plt.scatter(df_red['citric acid'],df_red['volatile acidity'],s=10)"
   ]
  },
  {
   "cell_type": "code",
   "execution_count": 16,
   "id": "2743746a",
   "metadata": {},
   "outputs": [
    {
     "data": {
      "text/plain": [
       "6"
      ]
     },
     "execution_count": 16,
     "metadata": {},
     "output_type": "execute_result"
    }
   ],
   "source": [
    "df_red['quality'].nunique()"
   ]
  },
  {
   "cell_type": "code",
   "execution_count": 17,
   "id": "2263ae9d",
   "metadata": {},
   "outputs": [
    {
     "data": {
      "text/plain": [
       "array([6, 5, 7, 8, 4, 3, 9], dtype=int64)"
      ]
     },
     "execution_count": 17,
     "metadata": {},
     "output_type": "execute_result"
    }
   ],
   "source": [
    "df_white['quality'].unique()"
   ]
  },
  {
   "cell_type": "code",
   "execution_count": 18,
   "id": "02ea1c0e",
   "metadata": {},
   "outputs": [
    {
     "data": {
      "text/html": [
       "<div>\n",
       "<style scoped>\n",
       "    .dataframe tbody tr th:only-of-type {\n",
       "        vertical-align: middle;\n",
       "    }\n",
       "\n",
       "    .dataframe tbody tr th {\n",
       "        vertical-align: top;\n",
       "    }\n",
       "\n",
       "    .dataframe thead th {\n",
       "        text-align: right;\n",
       "    }\n",
       "</style>\n",
       "<table border=\"1\" class=\"dataframe\">\n",
       "  <thead>\n",
       "    <tr style=\"text-align: right;\">\n",
       "      <th></th>\n",
       "      <th>fixed acidity</th>\n",
       "      <th>volatile acidity</th>\n",
       "      <th>citric acid</th>\n",
       "      <th>residual sugar</th>\n",
       "      <th>chlorides</th>\n",
       "      <th>free sulfur dioxide</th>\n",
       "      <th>total sulfur dioxide</th>\n",
       "      <th>density</th>\n",
       "      <th>pH</th>\n",
       "      <th>sulphates</th>\n",
       "      <th>alcohol</th>\n",
       "      <th>quality</th>\n",
       "    </tr>\n",
       "  </thead>\n",
       "  <tbody>\n",
       "    <tr>\n",
       "      <th>fixed acidity</th>\n",
       "      <td>1.000000</td>\n",
       "      <td>-0.022697</td>\n",
       "      <td>0.289181</td>\n",
       "      <td>0.089021</td>\n",
       "      <td>0.023086</td>\n",
       "      <td>-0.049396</td>\n",
       "      <td>0.091070</td>\n",
       "      <td>0.265331</td>\n",
       "      <td>-0.425858</td>\n",
       "      <td>-0.017143</td>\n",
       "      <td>-0.120881</td>\n",
       "      <td>-0.113663</td>\n",
       "    </tr>\n",
       "    <tr>\n",
       "      <th>volatile acidity</th>\n",
       "      <td>-0.022697</td>\n",
       "      <td>1.000000</td>\n",
       "      <td>-0.149472</td>\n",
       "      <td>0.064286</td>\n",
       "      <td>0.070512</td>\n",
       "      <td>-0.097012</td>\n",
       "      <td>0.089261</td>\n",
       "      <td>0.027114</td>\n",
       "      <td>-0.031915</td>\n",
       "      <td>-0.035728</td>\n",
       "      <td>0.067718</td>\n",
       "      <td>-0.194723</td>\n",
       "    </tr>\n",
       "    <tr>\n",
       "      <th>citric acid</th>\n",
       "      <td>0.289181</td>\n",
       "      <td>-0.149472</td>\n",
       "      <td>1.000000</td>\n",
       "      <td>0.094212</td>\n",
       "      <td>0.114364</td>\n",
       "      <td>0.094077</td>\n",
       "      <td>0.121131</td>\n",
       "      <td>0.149503</td>\n",
       "      <td>-0.163748</td>\n",
       "      <td>0.062331</td>\n",
       "      <td>-0.075729</td>\n",
       "      <td>-0.009209</td>\n",
       "    </tr>\n",
       "    <tr>\n",
       "      <th>residual sugar</th>\n",
       "      <td>0.089021</td>\n",
       "      <td>0.064286</td>\n",
       "      <td>0.094212</td>\n",
       "      <td>1.000000</td>\n",
       "      <td>0.088685</td>\n",
       "      <td>0.299098</td>\n",
       "      <td>0.401439</td>\n",
       "      <td>0.838966</td>\n",
       "      <td>-0.194133</td>\n",
       "      <td>-0.026664</td>\n",
       "      <td>-0.450631</td>\n",
       "      <td>-0.097577</td>\n",
       "    </tr>\n",
       "    <tr>\n",
       "      <th>chlorides</th>\n",
       "      <td>0.023086</td>\n",
       "      <td>0.070512</td>\n",
       "      <td>0.114364</td>\n",
       "      <td>0.088685</td>\n",
       "      <td>1.000000</td>\n",
       "      <td>0.101392</td>\n",
       "      <td>0.198910</td>\n",
       "      <td>0.257211</td>\n",
       "      <td>-0.090439</td>\n",
       "      <td>0.016763</td>\n",
       "      <td>-0.360189</td>\n",
       "      <td>-0.209934</td>\n",
       "    </tr>\n",
       "    <tr>\n",
       "      <th>free sulfur dioxide</th>\n",
       "      <td>-0.049396</td>\n",
       "      <td>-0.097012</td>\n",
       "      <td>0.094077</td>\n",
       "      <td>0.299098</td>\n",
       "      <td>0.101392</td>\n",
       "      <td>1.000000</td>\n",
       "      <td>0.615501</td>\n",
       "      <td>0.294210</td>\n",
       "      <td>-0.000618</td>\n",
       "      <td>0.059217</td>\n",
       "      <td>-0.250104</td>\n",
       "      <td>0.008158</td>\n",
       "    </tr>\n",
       "    <tr>\n",
       "      <th>total sulfur dioxide</th>\n",
       "      <td>0.091070</td>\n",
       "      <td>0.089261</td>\n",
       "      <td>0.121131</td>\n",
       "      <td>0.401439</td>\n",
       "      <td>0.198910</td>\n",
       "      <td>0.615501</td>\n",
       "      <td>1.000000</td>\n",
       "      <td>0.529881</td>\n",
       "      <td>0.002321</td>\n",
       "      <td>0.134562</td>\n",
       "      <td>-0.448892</td>\n",
       "      <td>-0.174737</td>\n",
       "    </tr>\n",
       "    <tr>\n",
       "      <th>density</th>\n",
       "      <td>0.265331</td>\n",
       "      <td>0.027114</td>\n",
       "      <td>0.149503</td>\n",
       "      <td>0.838966</td>\n",
       "      <td>0.257211</td>\n",
       "      <td>0.294210</td>\n",
       "      <td>0.529881</td>\n",
       "      <td>1.000000</td>\n",
       "      <td>-0.093591</td>\n",
       "      <td>0.074493</td>\n",
       "      <td>-0.780138</td>\n",
       "      <td>-0.307123</td>\n",
       "    </tr>\n",
       "    <tr>\n",
       "      <th>pH</th>\n",
       "      <td>-0.425858</td>\n",
       "      <td>-0.031915</td>\n",
       "      <td>-0.163748</td>\n",
       "      <td>-0.194133</td>\n",
       "      <td>-0.090439</td>\n",
       "      <td>-0.000618</td>\n",
       "      <td>0.002321</td>\n",
       "      <td>-0.093591</td>\n",
       "      <td>1.000000</td>\n",
       "      <td>0.155951</td>\n",
       "      <td>0.121432</td>\n",
       "      <td>0.099427</td>\n",
       "    </tr>\n",
       "    <tr>\n",
       "      <th>sulphates</th>\n",
       "      <td>-0.017143</td>\n",
       "      <td>-0.035728</td>\n",
       "      <td>0.062331</td>\n",
       "      <td>-0.026664</td>\n",
       "      <td>0.016763</td>\n",
       "      <td>0.059217</td>\n",
       "      <td>0.134562</td>\n",
       "      <td>0.074493</td>\n",
       "      <td>0.155951</td>\n",
       "      <td>1.000000</td>\n",
       "      <td>-0.017433</td>\n",
       "      <td>0.053678</td>\n",
       "    </tr>\n",
       "    <tr>\n",
       "      <th>alcohol</th>\n",
       "      <td>-0.120881</td>\n",
       "      <td>0.067718</td>\n",
       "      <td>-0.075729</td>\n",
       "      <td>-0.450631</td>\n",
       "      <td>-0.360189</td>\n",
       "      <td>-0.250104</td>\n",
       "      <td>-0.448892</td>\n",
       "      <td>-0.780138</td>\n",
       "      <td>0.121432</td>\n",
       "      <td>-0.017433</td>\n",
       "      <td>1.000000</td>\n",
       "      <td>0.435575</td>\n",
       "    </tr>\n",
       "    <tr>\n",
       "      <th>quality</th>\n",
       "      <td>-0.113663</td>\n",
       "      <td>-0.194723</td>\n",
       "      <td>-0.009209</td>\n",
       "      <td>-0.097577</td>\n",
       "      <td>-0.209934</td>\n",
       "      <td>0.008158</td>\n",
       "      <td>-0.174737</td>\n",
       "      <td>-0.307123</td>\n",
       "      <td>0.099427</td>\n",
       "      <td>0.053678</td>\n",
       "      <td>0.435575</td>\n",
       "      <td>1.000000</td>\n",
       "    </tr>\n",
       "  </tbody>\n",
       "</table>\n",
       "</div>"
      ],
      "text/plain": [
       "                      fixed acidity  volatile acidity  citric acid  \\\n",
       "fixed acidity              1.000000         -0.022697     0.289181   \n",
       "volatile acidity          -0.022697          1.000000    -0.149472   \n",
       "citric acid                0.289181         -0.149472     1.000000   \n",
       "residual sugar             0.089021          0.064286     0.094212   \n",
       "chlorides                  0.023086          0.070512     0.114364   \n",
       "free sulfur dioxide       -0.049396         -0.097012     0.094077   \n",
       "total sulfur dioxide       0.091070          0.089261     0.121131   \n",
       "density                    0.265331          0.027114     0.149503   \n",
       "pH                        -0.425858         -0.031915    -0.163748   \n",
       "sulphates                 -0.017143         -0.035728     0.062331   \n",
       "alcohol                   -0.120881          0.067718    -0.075729   \n",
       "quality                   -0.113663         -0.194723    -0.009209   \n",
       "\n",
       "                      residual sugar  chlorides  free sulfur dioxide  \\\n",
       "fixed acidity               0.089021   0.023086            -0.049396   \n",
       "volatile acidity            0.064286   0.070512            -0.097012   \n",
       "citric acid                 0.094212   0.114364             0.094077   \n",
       "residual sugar              1.000000   0.088685             0.299098   \n",
       "chlorides                   0.088685   1.000000             0.101392   \n",
       "free sulfur dioxide         0.299098   0.101392             1.000000   \n",
       "total sulfur dioxide        0.401439   0.198910             0.615501   \n",
       "density                     0.838966   0.257211             0.294210   \n",
       "pH                         -0.194133  -0.090439            -0.000618   \n",
       "sulphates                  -0.026664   0.016763             0.059217   \n",
       "alcohol                    -0.450631  -0.360189            -0.250104   \n",
       "quality                    -0.097577  -0.209934             0.008158   \n",
       "\n",
       "                      total sulfur dioxide   density        pH  sulphates  \\\n",
       "fixed acidity                     0.091070  0.265331 -0.425858  -0.017143   \n",
       "volatile acidity                  0.089261  0.027114 -0.031915  -0.035728   \n",
       "citric acid                       0.121131  0.149503 -0.163748   0.062331   \n",
       "residual sugar                    0.401439  0.838966 -0.194133  -0.026664   \n",
       "chlorides                         0.198910  0.257211 -0.090439   0.016763   \n",
       "free sulfur dioxide               0.615501  0.294210 -0.000618   0.059217   \n",
       "total sulfur dioxide              1.000000  0.529881  0.002321   0.134562   \n",
       "density                           0.529881  1.000000 -0.093591   0.074493   \n",
       "pH                                0.002321 -0.093591  1.000000   0.155951   \n",
       "sulphates                         0.134562  0.074493  0.155951   1.000000   \n",
       "alcohol                          -0.448892 -0.780138  0.121432  -0.017433   \n",
       "quality                          -0.174737 -0.307123  0.099427   0.053678   \n",
       "\n",
       "                       alcohol   quality  \n",
       "fixed acidity        -0.120881 -0.113663  \n",
       "volatile acidity      0.067718 -0.194723  \n",
       "citric acid          -0.075729 -0.009209  \n",
       "residual sugar       -0.450631 -0.097577  \n",
       "chlorides            -0.360189 -0.209934  \n",
       "free sulfur dioxide  -0.250104  0.008158  \n",
       "total sulfur dioxide -0.448892 -0.174737  \n",
       "density              -0.780138 -0.307123  \n",
       "pH                    0.121432  0.099427  \n",
       "sulphates            -0.017433  0.053678  \n",
       "alcohol               1.000000  0.435575  \n",
       "quality               0.435575  1.000000  "
      ]
     },
     "execution_count": 18,
     "metadata": {},
     "output_type": "execute_result"
    }
   ],
   "source": [
    "df_white.corr()"
   ]
  },
  {
   "cell_type": "code",
   "execution_count": 19,
   "id": "f6e4661a",
   "metadata": {},
   "outputs": [
    {
     "data": {
      "text/plain": [
       "<matplotlib.image.AxesImage at 0x20c75ede6d0>"
      ]
     },
     "execution_count": 19,
     "metadata": {},
     "output_type": "execute_result"
    },
    {
     "data": {
      "image/png": "[encoded data removed]",
      "text/plain": [
       "<Figure size 288x288 with 1 Axes>"
      ]
     },
     "metadata": {
      "needs_background": "light"
     },
     "output_type": "display_data"
    }
   ],
   "source": [
    "plt.matshow(df_red.corr())"
   ]
  },
  {
   "cell_type": "code",
   "execution_count": 20,
   "id": "e0b8c196",
   "metadata": {},
   "outputs": [
    {
     "data": {
      "image/png": "[encoded data removed]",
      "text/plain": [
       "<Figure size 1368x1080 with 2 Axes>"
      ]
     },
     "metadata": {
      "needs_background": "light"
     },
     "output_type": "display_data"
    }
   ],
   "source": [
    "f = plt.figure(figsize=(19, 15))\n",
    "plt.matshow(df_red.corr(), fignum=f.number)\n",
    "plt.xticks(range(df_red.shape[1]), df_red.columns, fontsize=14, rotation=45)\n",
    "plt.yticks(range(df_red.shape[1]), df_red.columns, fontsize=14)\n",
    "cb = plt.colorbar()\n",
    "cb.ax.tick_params(labelsize=14)\n",
    "plt.title('Correlation Matrix', fontsize=16);"
   ]
  },
  {
   "cell_type": "code",
   "execution_count": 21,
   "id": "8b5e21c9",
   "metadata": {},
   "outputs": [
    {
     "data": {
      "text/plain": [
       "<matplotlib.image.AxesImage at 0x20c7602deb0>"
      ]
     },
     "execution_count": 21,
     "metadata": {},
     "output_type": "execute_result"
    },
    {
     "data": {
      "image/png": "[encoded data removed]",
      "text/plain": [
       "<Figure size 288x288 with 1 Axes>"
      ]
     },
     "metadata": {
      "needs_background": "light"
     },
     "output_type": "display_data"
    }
   ],
   "source": [
    "plt.matshow(df_white.corr())"
   ]
  },
  {
   "cell_type": "code",
   "execution_count": 22,
   "id": "35861099",
   "metadata": {},
   "outputs": [
    {
     "data": {
      "image/png": "[encoded data removed]",
      "text/plain": [
       "<Figure size 1368x1080 with 2 Axes>"
      ]
     },
     "metadata": {
      "needs_background": "light"
     },
     "output_type": "display_data"
    }
   ],
   "source": [
    "f = plt.figure(figsize=(19, 15))\n",
    "plt.matshow(df_white.corr(), fignum=f.number)\n",
    "plt.xticks(range(df_white.shape[1]), df_white.columns, fontsize=14, rotation=45)\n",
    "plt.yticks(range(df_white.shape[1]), df_white.columns, fontsize=14)\n",
    "cb = plt.colorbar()\n",
    "cb.ax.tick_params(labelsize=14)\n",
    "plt.title('Correlation Matrix', fontsize=16);"
   ]
  },
  {
   "cell_type": "code",
   "execution_count": 23,
   "id": "2265ed34",
   "metadata": {},
   "outputs": [
    {
     "data": {
      "text/plain": [
       "fixed acidity           0\n",
       "volatile acidity        0\n",
       "citric acid             0\n",
       "residual sugar          0\n",
       "chlorides               0\n",
       "free sulfur dioxide     0\n",
       "total sulfur dioxide    0\n",
       "density                 0\n",
       "pH                      0\n",
       "sulphates               0\n",
       "alcohol                 0\n",
       "quality                 0\n",
       "dtype: int64"
      ]
     },
     "execution_count": 23,
     "metadata": {},
     "output_type": "execute_result"
    }
   ],
   "source": [
    "df_red.isnull().sum()"
   ]
  },
  {
   "cell_type": "code",
   "execution_count": 24,
   "id": "5e7fb8dd",
   "metadata": {},
   "outputs": [
    {
     "data": {
      "text/plain": [
       "<AxesSubplot:>"
      ]
     },
     "execution_count": 24,
     "metadata": {},
     "output_type": "execute_result"
    },
    {
     "data": {
      "image/png": "[encoded data removed]",
      "text/plain": [
       "<Figure size 432x288 with 1 Axes>"
      ]
     },
     "metadata": {
      "needs_background": "light"
     },
     "output_type": "display_data"
    }
   ],
   "source": [
    "df_red['quality'].value_counts().plot(kind = 'bar')"
   ]
  },
  {
   "cell_type": "code",
   "execution_count": 25,
   "id": "2853c913",
   "metadata": {},
   "outputs": [
    {
     "data": {
      "text/plain": [
       "<AxesSubplot:>"
      ]
     },
     "execution_count": 25,
     "metadata": {},
     "output_type": "execute_result"
    },
    {
     "data": {
      "image/png": "[encoded data removed]",
      "text/plain": [
       "<Figure size 432x288 with 1 Axes>"
      ]
     },
     "metadata": {
      "needs_background": "light"
     },
     "output_type": "display_data"
    }
   ],
   "source": [
    "df_white['quality'].value_counts().plot(kind = 'bar')"
   ]
  },
  {
   "cell_type": "code",
   "execution_count": 26,
   "id": "55b86cad",
   "metadata": {},
   "outputs": [],
   "source": [
    "#combining both red and white wines"
   ]
  },
  {
   "cell_type": "code",
   "execution_count": 27,
   "id": "aa4c6b5a",
   "metadata": {},
   "outputs": [
    {
     "data": {
      "text/plain": [
       "(6497, 12)"
      ]
     },
     "execution_count": 27,
     "metadata": {},
     "output_type": "execute_result"
    }
   ],
   "source": [
    "df_white = pd.concat([df_white,df_red])\n",
    "df_white.shape"
   ]
  },
  {
   "cell_type": "code",
   "execution_count": 28,
   "id": "1e4abbfe",
   "metadata": {},
   "outputs": [
    {
     "data": {
      "text/html": [
       "<div>\n",
       "<style scoped>\n",
       "    .dataframe tbody tr th:only-of-type {\n",
       "        vertical-align: middle;\n",
       "    }\n",
       "\n",
       "    .dataframe tbody tr th {\n",
       "        vertical-align: top;\n",
       "    }\n",
       "\n",
       "    .dataframe thead th {\n",
       "        text-align: right;\n",
       "    }\n",
       "</style>\n",
       "<table border=\"1\" class=\"dataframe\">\n",
       "  <thead>\n",
       "    <tr style=\"text-align: right;\">\n",
       "      <th></th>\n",
       "      <th>fixed acidity</th>\n",
       "      <th>volatile acidity</th>\n",
       "      <th>citric acid</th>\n",
       "      <th>residual sugar</th>\n",
       "      <th>chlorides</th>\n",
       "      <th>free sulfur dioxide</th>\n",
       "      <th>total sulfur dioxide</th>\n",
       "      <th>density</th>\n",
       "      <th>pH</th>\n",
       "      <th>sulphates</th>\n",
       "      <th>alcohol</th>\n",
       "      <th>quality</th>\n",
       "    </tr>\n",
       "  </thead>\n",
       "  <tbody>\n",
       "    <tr>\n",
       "      <th>0</th>\n",
       "      <td>7.0</td>\n",
       "      <td>0.27</td>\n",
       "      <td>0.36</td>\n",
       "      <td>20.7</td>\n",
       "      <td>0.045</td>\n",
       "      <td>45.0</td>\n",
       "      <td>170.0</td>\n",
       "      <td>1.0010</td>\n",
       "      <td>3.00</td>\n",
       "      <td>0.45</td>\n",
       "      <td>8.8</td>\n",
       "      <td>6</td>\n",
       "    </tr>\n",
       "    <tr>\n",
       "      <th>1</th>\n",
       "      <td>6.3</td>\n",
       "      <td>0.30</td>\n",
       "      <td>0.34</td>\n",
       "      <td>1.6</td>\n",
       "      <td>0.049</td>\n",
       "      <td>14.0</td>\n",
       "      <td>132.0</td>\n",
       "      <td>0.9940</td>\n",
       "      <td>3.30</td>\n",
       "      <td>0.49</td>\n",
       "      <td>9.5</td>\n",
       "      <td>6</td>\n",
       "    </tr>\n",
       "    <tr>\n",
       "      <th>2</th>\n",
       "      <td>8.1</td>\n",
       "      <td>0.28</td>\n",
       "      <td>0.40</td>\n",
       "      <td>6.9</td>\n",
       "      <td>0.050</td>\n",
       "      <td>30.0</td>\n",
       "      <td>97.0</td>\n",
       "      <td>0.9951</td>\n",
       "      <td>3.26</td>\n",
       "      <td>0.44</td>\n",
       "      <td>10.1</td>\n",
       "      <td>6</td>\n",
       "    </tr>\n",
       "    <tr>\n",
       "      <th>3</th>\n",
       "      <td>7.2</td>\n",
       "      <td>0.23</td>\n",
       "      <td>0.32</td>\n",
       "      <td>8.5</td>\n",
       "      <td>0.058</td>\n",
       "      <td>47.0</td>\n",
       "      <td>186.0</td>\n",
       "      <td>0.9956</td>\n",
       "      <td>3.19</td>\n",
       "      <td>0.40</td>\n",
       "      <td>9.9</td>\n",
       "      <td>6</td>\n",
       "    </tr>\n",
       "    <tr>\n",
       "      <th>4</th>\n",
       "      <td>7.2</td>\n",
       "      <td>0.23</td>\n",
       "      <td>0.32</td>\n",
       "      <td>8.5</td>\n",
       "      <td>0.058</td>\n",
       "      <td>47.0</td>\n",
       "      <td>186.0</td>\n",
       "      <td>0.9956</td>\n",
       "      <td>3.19</td>\n",
       "      <td>0.40</td>\n",
       "      <td>9.9</td>\n",
       "      <td>6</td>\n",
       "    </tr>\n",
       "  </tbody>\n",
       "</table>\n",
       "</div>"
      ],
      "text/plain": [
       "   fixed acidity  volatile acidity  citric acid  residual sugar  chlorides  \\\n",
       "0            7.0              0.27         0.36            20.7      0.045   \n",
       "1            6.3              0.30         0.34             1.6      0.049   \n",
       "2            8.1              0.28         0.40             6.9      0.050   \n",
       "3            7.2              0.23         0.32             8.5      0.058   \n",
       "4            7.2              0.23         0.32             8.5      0.058   \n",
       "\n",
       "   free sulfur dioxide  total sulfur dioxide  density    pH  sulphates  \\\n",
       "0                 45.0                 170.0   1.0010  3.00       0.45   \n",
       "1                 14.0                 132.0   0.9940  3.30       0.49   \n",
       "2                 30.0                  97.0   0.9951  3.26       0.44   \n",
       "3                 47.0                 186.0   0.9956  3.19       0.40   \n",
       "4                 47.0                 186.0   0.9956  3.19       0.40   \n",
       "\n",
       "   alcohol  quality  \n",
       "0      8.8        6  \n",
       "1      9.5        6  \n",
       "2     10.1        6  \n",
       "3      9.9        6  \n",
       "4      9.9        6  "
      ]
     },
     "execution_count": 28,
     "metadata": {},
     "output_type": "execute_result"
    }
   ],
   "source": [
    "df_white.head()"
   ]
  },
  {
   "cell_type": "code",
   "execution_count": 29,
   "id": "727b8c93",
   "metadata": {},
   "outputs": [],
   "source": [
    "#White wine"
   ]
  },
  {
   "cell_type": "code",
   "execution_count": 30,
   "id": "0e0a2439",
   "metadata": {},
   "outputs": [],
   "source": [
    "df_white = pd.concat([df_red,df_white])"
   ]
  },
  {
   "cell_type": "code",
   "execution_count": 31,
   "id": "b1849221",
   "metadata": {},
   "outputs": [
    {
     "data": {
      "text/plain": [
       "(8096, 12)"
      ]
     },
     "execution_count": 31,
     "metadata": {},
     "output_type": "execute_result"
    }
   ],
   "source": [
    "df_white.shape"
   ]
  },
  {
   "cell_type": "code",
   "execution_count": 32,
   "id": "c56314cd",
   "metadata": {},
   "outputs": [
    {
     "data": {
      "text/plain": [
       "<AxesSubplot:>"
      ]
     },
     "execution_count": 32,
     "metadata": {},
     "output_type": "execute_result"
    },
    {
     "data": {
      "image/png": "[encoded data removed]",
      "text/plain": [
       "<Figure size 432x288 with 1 Axes>"
      ]
     },
     "metadata": {
      "needs_background": "light"
     },
     "output_type": "display_data"
    }
   ],
   "source": [
    "sns.heatmap(df_white.isna(),cbar=False,yticklabels=False)"
   ]
  },
  {
   "cell_type": "code",
   "execution_count": 33,
   "id": "67e1103c",
   "metadata": {},
   "outputs": [
    {
     "data": {
      "text/plain": [
       "0       5\n",
       "1       5\n",
       "2       5\n",
       "3       6\n",
       "4       5\n",
       "       ..\n",
       "1594    5\n",
       "1595    6\n",
       "1596    6\n",
       "1597    5\n",
       "1598    6\n",
       "Name: quality, Length: 8096, dtype: int64"
      ]
     },
     "execution_count": 33,
     "metadata": {},
     "output_type": "execute_result"
    }
   ],
   "source": [
    "df_white['quality']"
   ]
  },
  {
   "cell_type": "code",
   "execution_count": 34,
   "id": "66bdc57a",
   "metadata": {},
   "outputs": [],
   "source": [
    "#splitting train and valid data"
   ]
  },
  {
   "cell_type": "code",
   "execution_count": 35,
   "id": "d5ff61c3",
   "metadata": {},
   "outputs": [
    {
     "data": {
      "text/plain": [
       "0       5\n",
       "1       5\n",
       "2       5\n",
       "3       6\n",
       "4       5\n",
       "       ..\n",
       "1594    5\n",
       "1595    6\n",
       "1596    6\n",
       "1597    5\n",
       "1598    6\n",
       "Name: quality, Length: 8096, dtype: int64"
      ]
     },
     "execution_count": 35,
     "metadata": {},
     "output_type": "execute_result"
    }
   ],
   "source": [
    "y = df_white['quality']\n",
    "y"
   ]
  },
  {
   "cell_type": "code",
   "execution_count": 36,
   "id": "25919bba",
   "metadata": {},
   "outputs": [
    {
     "data": {
      "text/plain": [
       "7"
      ]
     },
     "execution_count": 36,
     "metadata": {},
     "output_type": "execute_result"
    }
   ],
   "source": [
    "y.nunique()"
   ]
  },
  {
   "cell_type": "code",
   "execution_count": 37,
   "id": "a61bb560",
   "metadata": {},
   "outputs": [
    {
     "data": {
      "text/plain": [
       "<AxesSubplot:>"
      ]
     },
     "execution_count": 37,
     "metadata": {},
     "output_type": "execute_result"
    },
    {
     "data": {
      "image/png": "[encoded data removed]",
      "text/plain": [
       "<Figure size 432x288 with 1 Axes>"
      ]
     },
     "metadata": {
      "needs_background": "light"
     },
     "output_type": "display_data"
    }
   ],
   "source": [
    "y.value_counts().plot(kind='bar')"
   ]
  },
  {
   "cell_type": "code",
   "execution_count": 38,
   "id": "78e3f540",
   "metadata": {},
   "outputs": [],
   "source": [
    "df_white.drop(['quality'],axis=1,inplace = True)"
   ]
  },
  {
   "cell_type": "code",
   "execution_count": 39,
   "id": "c40f7f57",
   "metadata": {},
   "outputs": [
    {
     "data": {
      "text/html": [
       "<div>\n",
       "<style scoped>\n",
       "    .dataframe tbody tr th:only-of-type {\n",
       "        vertical-align: middle;\n",
       "    }\n",
       "\n",
       "    .dataframe tbody tr th {\n",
       "        vertical-align: top;\n",
       "    }\n",
       "\n",
       "    .dataframe thead th {\n",
       "        text-align: right;\n",
       "    }\n",
       "</style>\n",
       "<table border=\"1\" class=\"dataframe\">\n",
       "  <thead>\n",
       "    <tr style=\"text-align: right;\">\n",
       "      <th></th>\n",
       "      <th>fixed acidity</th>\n",
       "      <th>volatile acidity</th>\n",
       "      <th>citric acid</th>\n",
       "      <th>residual sugar</th>\n",
       "      <th>chlorides</th>\n",
       "      <th>free sulfur dioxide</th>\n",
       "      <th>total sulfur dioxide</th>\n",
       "      <th>density</th>\n",
       "      <th>pH</th>\n",
       "      <th>sulphates</th>\n",
       "      <th>alcohol</th>\n",
       "    </tr>\n",
       "  </thead>\n",
       "  <tbody>\n",
       "    <tr>\n",
       "      <th>0</th>\n",
       "      <td>7.4</td>\n",
       "      <td>0.70</td>\n",
       "      <td>0.00</td>\n",
       "      <td>1.9</td>\n",
       "      <td>0.076</td>\n",
       "      <td>11.0</td>\n",
       "      <td>34.0</td>\n",
       "      <td>0.9978</td>\n",
       "      <td>3.51</td>\n",
       "      <td>0.56</td>\n",
       "      <td>9.4</td>\n",
       "    </tr>\n",
       "    <tr>\n",
       "      <th>1</th>\n",
       "      <td>7.8</td>\n",
       "      <td>0.88</td>\n",
       "      <td>0.00</td>\n",
       "      <td>2.6</td>\n",
       "      <td>0.098</td>\n",
       "      <td>25.0</td>\n",
       "      <td>67.0</td>\n",
       "      <td>0.9968</td>\n",
       "      <td>3.20</td>\n",
       "      <td>0.68</td>\n",
       "      <td>9.8</td>\n",
       "    </tr>\n",
       "    <tr>\n",
       "      <th>2</th>\n",
       "      <td>7.8</td>\n",
       "      <td>0.76</td>\n",
       "      <td>0.04</td>\n",
       "      <td>2.3</td>\n",
       "      <td>0.092</td>\n",
       "      <td>15.0</td>\n",
       "      <td>54.0</td>\n",
       "      <td>0.9970</td>\n",
       "      <td>3.26</td>\n",
       "      <td>0.65</td>\n",
       "      <td>9.8</td>\n",
       "    </tr>\n",
       "    <tr>\n",
       "      <th>3</th>\n",
       "      <td>11.2</td>\n",
       "      <td>0.28</td>\n",
       "      <td>0.56</td>\n",
       "      <td>1.9</td>\n",
       "      <td>0.075</td>\n",
       "      <td>17.0</td>\n",
       "      <td>60.0</td>\n",
       "      <td>0.9980</td>\n",
       "      <td>3.16</td>\n",
       "      <td>0.58</td>\n",
       "      <td>9.8</td>\n",
       "    </tr>\n",
       "    <tr>\n",
       "      <th>4</th>\n",
       "      <td>7.4</td>\n",
       "      <td>0.70</td>\n",
       "      <td>0.00</td>\n",
       "      <td>1.9</td>\n",
       "      <td>0.076</td>\n",
       "      <td>11.0</td>\n",
       "      <td>34.0</td>\n",
       "      <td>0.9978</td>\n",
       "      <td>3.51</td>\n",
       "      <td>0.56</td>\n",
       "      <td>9.4</td>\n",
       "    </tr>\n",
       "  </tbody>\n",
       "</table>\n",
       "</div>"
      ],
      "text/plain": [
       "   fixed acidity  volatile acidity  citric acid  residual sugar  chlorides  \\\n",
       "0            7.4              0.70         0.00             1.9      0.076   \n",
       "1            7.8              0.88         0.00             2.6      0.098   \n",
       "2            7.8              0.76         0.04             2.3      0.092   \n",
       "3           11.2              0.28         0.56             1.9      0.075   \n",
       "4            7.4              0.70         0.00             1.9      0.076   \n",
       "\n",
       "   free sulfur dioxide  total sulfur dioxide  density    pH  sulphates  \\\n",
       "0                 11.0                  34.0   0.9978  3.51       0.56   \n",
       "1                 25.0                  67.0   0.9968  3.20       0.68   \n",
       "2                 15.0                  54.0   0.9970  3.26       0.65   \n",
       "3                 17.0                  60.0   0.9980  3.16       0.58   \n",
       "4                 11.0                  34.0   0.9978  3.51       0.56   \n",
       "\n",
       "   alcohol  \n",
       "0      9.4  \n",
       "1      9.8  \n",
       "2      9.8  \n",
       "3      9.8  \n",
       "4      9.4  "
      ]
     },
     "execution_count": 39,
     "metadata": {},
     "output_type": "execute_result"
    }
   ],
   "source": [
    "X = df_white.copy()\n",
    "#X = X.to_numpy()\n",
    "X.head()"
   ]
  },
  {
   "cell_type": "code",
   "execution_count": 40,
   "id": "03a7b64e",
   "metadata": {},
   "outputs": [],
   "source": [
    "#Fixing class imbalance at the fundamental level"
   ]
  },
  {
   "cell_type": "code",
   "execution_count": 41,
   "id": "1fad25dc",
   "metadata": {},
   "outputs": [],
   "source": [
    "oversampler = SMOTE(k_neighbors=4)"
   ]
  },
  {
   "cell_type": "code",
   "execution_count": 42,
   "id": "de2cbda2",
   "metadata": {},
   "outputs": [],
   "source": [
    "X, y = oversampler.fit_resample(X,y)"
   ]
  },
  {
   "cell_type": "code",
   "execution_count": 43,
   "id": "3029d014",
   "metadata": {},
   "outputs": [
    {
     "data": {
      "text/plain": [
       "<AxesSubplot:>"
      ]
     },
     "execution_count": 43,
     "metadata": {},
     "output_type": "execute_result"
    },
    {
     "data": {
      "image/png": "[encoded data removed]",
      "text/plain": [
       "<Figure size 432x288 with 1 Axes>"
      ]
     },
     "metadata": {
      "needs_background": "light"
     },
     "output_type": "display_data"
    }
   ],
   "source": [
    "y.value_counts().plot(kind = 'bar')"
   ]
  },
  {
   "cell_type": "code",
   "execution_count": 41,
   "id": "f8b0b71d",
   "metadata": {},
   "outputs": [
    {
     "data": {
      "text/plain": [
       "0        0\n",
       "1        0\n",
       "2        0\n",
       "3        1\n",
       "4        0\n",
       "        ..\n",
       "24313    1\n",
       "24314    1\n",
       "24315    1\n",
       "24316    1\n",
       "24317    1\n",
       "Name: quality, Length: 24318, dtype: int64"
      ]
     },
     "execution_count": 41,
     "metadata": {},
     "output_type": "execute_result"
    }
   ],
   "source": [
    "for i in range(len(y)):\n",
    "    if(y[i]>5):\n",
    "        y[i] = 1\n",
    "    else:\n",
    "        y[i] = 0\n",
    "y"
   ]
  },
  {
   "cell_type": "code",
   "execution_count": 42,
   "id": "7c764f69",
   "metadata": {},
   "outputs": [
    {
     "data": {
      "text/plain": [
       "<AxesSubplot:>"
      ]
     },
     "execution_count": 42,
     "metadata": {},
     "output_type": "execute_result"
    },
    {
     "data": {
      "image/png": "[encoded data removed]",
      "text/plain": [
       "<Figure size 432x288 with 1 Axes>"
      ]
     },
     "metadata": {
      "needs_background": "light"
     },
     "output_type": "display_data"
    }
   ],
   "source": [
    "y.value_counts().plot(kind = 'bar')"
   ]
  },
  {
   "cell_type": "code",
   "execution_count": 43,
   "id": "98a82461",
   "metadata": {},
   "outputs": [],
   "source": [
    "#Feature Importance"
   ]
  },
  {
   "cell_type": "code",
   "execution_count": 44,
   "id": "2c39dd20",
   "metadata": {},
   "outputs": [
    {
     "data": {
      "text/plain": [
       "Index(['fixed acidity', 'volatile acidity', 'citric acid', 'residual sugar',\n",
       "       'chlorides', 'free sulfur dioxide', 'total sulfur dioxide', 'density',\n",
       "       'pH', 'sulphates', 'alcohol'],\n",
       "      dtype='object')"
      ]
     },
     "execution_count": 44,
     "metadata": {},
     "output_type": "execute_result"
    }
   ],
   "source": [
    "t = X.columns\n",
    "t"
   ]
  },
  {
   "cell_type": "code",
   "execution_count": 45,
   "id": "1a57b998",
   "metadata": {},
   "outputs": [
    {
     "data": {
      "text/plain": [
       "RandomForestRegressor()"
      ]
     },
     "execution_count": 45,
     "metadata": {},
     "output_type": "execute_result"
    }
   ],
   "source": [
    "rmod = RandomForestRegressor()\n",
    "rmod.fit(X,y)"
   ]
  },
  {
   "cell_type": "code",
   "execution_count": 46,
   "id": "c91a885c",
   "metadata": {},
   "outputs": [
    {
     "data": {
      "text/plain": [
       "array([0.03360936, 0.16048818, 0.03789177, 0.03967401, 0.0402278 ,\n",
       "       0.0972911 , 0.06303967, 0.03869999, 0.03977718, 0.08543633,\n",
       "       0.3638646 ])"
      ]
     },
     "execution_count": 46,
     "metadata": {},
     "output_type": "execute_result"
    }
   ],
   "source": [
    "importances = rmod.feature_importances_\n",
    "importances"
   ]
  },
  {
   "cell_type": "code",
   "execution_count": 47,
   "id": "5bdfacaf",
   "metadata": {},
   "outputs": [
    {
     "data": {
      "image/png": "[encoded data removed]",
      "text/plain": [
       "<Figure size 432x288 with 1 Axes>"
      ]
     },
     "metadata": {
      "needs_background": "light"
     },
     "output_type": "display_data"
    }
   ],
   "source": [
    "indices = np.argsort(importances)\n",
    "features = X.columns\n",
    "plt.title('Feature Importances')\n",
    "plt.barh(range(len(indices)), importances[indices], color='b', align='center')\n",
    "plt.yticks(range(len(indices)), [features[i] for i in indices])\n",
    "plt.xlabel('Relative Importance')\n",
    "plt.show()"
   ]
  },
  {
   "cell_type": "code",
   "execution_count": 48,
   "id": "cbd8b3c7",
   "metadata": {},
   "outputs": [],
   "source": [
    "fl = []"
   ]
  },
  {
   "cell_type": "code",
   "execution_count": 49,
   "id": "440aed3d",
   "metadata": {},
   "outputs": [],
   "source": [
    "#picking top 8 features"
   ]
  },
  {
   "cell_type": "code",
   "execution_count": 50,
   "id": "9dabcb3d",
   "metadata": {},
   "outputs": [
    {
     "data": {
      "text/plain": [
       "['fixed acidity',\n",
       " 'volatile acidity',\n",
       " 'citric acid',\n",
       " 'residual sugar',\n",
       " 'chlorides',\n",
       " 'free sulfur dioxide',\n",
       " 'total sulfur dioxide',\n",
       " 'density']"
      ]
     },
     "execution_count": 50,
     "metadata": {},
     "output_type": "execute_result"
    }
   ],
   "source": [
    "for i in range(8):\n",
    "    fl.append(t[i])\n",
    "fl\n",
    "    "
   ]
  },
  {
   "cell_type": "code",
   "execution_count": 51,
   "id": "b7b35219",
   "metadata": {},
   "outputs": [],
   "source": [
    "#X = X[fl]\n",
    "#X.shape"
   ]
  },
  {
   "cell_type": "code",
   "execution_count": 52,
   "id": "236ed96e",
   "metadata": {},
   "outputs": [],
   "source": [
    "X_train,X_test,y_train,y_test = train_test_split(X,y,train_size = 0.8)"
   ]
  },
  {
   "cell_type": "code",
   "execution_count": 53,
   "id": "61673302",
   "metadata": {},
   "outputs": [
    {
     "name": "stdout",
     "output_type": "stream",
     "text": [
      "(19454, 11) (4864, 11) (19454,) (4864,)\n"
     ]
    }
   ],
   "source": [
    "print(X_train.shape,X_test.shape,y_train.shape,y_test.shape)"
   ]
  },
  {
   "cell_type": "code",
   "execution_count": 54,
   "id": "96f4f3b4",
   "metadata": {},
   "outputs": [],
   "source": [
    "#scaling the data"
   ]
  },
  {
   "cell_type": "code",
   "execution_count": 55,
   "id": "b6a06d5a",
   "metadata": {},
   "outputs": [],
   "source": [
    "scalemod = StandardScaler()\n",
    "X_train = scalemod.fit_transform(X_train)\n",
    "X_test = scalemod.fit_transform(X_test)"
   ]
  },
  {
   "cell_type": "code",
   "execution_count": 56,
   "id": "8d57f920",
   "metadata": {},
   "outputs": [],
   "source": [
    "#Using SVM"
   ]
  },
  {
   "cell_type": "code",
   "execution_count": 57,
   "id": "edd5deca",
   "metadata": {},
   "outputs": [],
   "source": [
    "smod = SVC()"
   ]
  },
  {
   "cell_type": "code",
   "execution_count": 58,
   "id": "3519fd3c",
   "metadata": {},
   "outputs": [
    {
     "data": {
      "text/plain": [
       "SVC()"
      ]
     },
     "execution_count": 58,
     "metadata": {},
     "output_type": "execute_result"
    }
   ],
   "source": [
    "smod.fit(X_train,y_train)"
   ]
  },
  {
   "cell_type": "code",
   "execution_count": 59,
   "id": "a15357db",
   "metadata": {},
   "outputs": [
    {
     "data": {
      "text/plain": [
       "array([0, 0, 0, ..., 0, 1, 1], dtype=int64)"
      ]
     },
     "execution_count": 59,
     "metadata": {},
     "output_type": "execute_result"
    }
   ],
   "source": [
    "spred = smod.predict(X_test)\n",
    "spred"
   ]
  },
  {
   "cell_type": "code",
   "execution_count": 60,
   "id": "ff0c7c6b",
   "metadata": {},
   "outputs": [],
   "source": [
    "params = {'C': [0.1,1, 10, 100], 'gamma': [1,0.1,0.01,0.001],'kernel': ['rbf']}"
   ]
  },
  {
   "cell_type": "code",
   "execution_count": 61,
   "id": "beedc841",
   "metadata": {},
   "outputs": [],
   "source": [
    "grid_search = GridSearchCV(estimator=smod, \n",
    "                           param_grid=params,\n",
    "                           cv=10,\n",
    "                           verbose=3, scoring = \"accuracy\")"
   ]
  },
  {
   "cell_type": "code",
   "execution_count": 62,
   "id": "54ad37b8",
   "metadata": {},
   "outputs": [
    {
     "name": "stdout",
     "output_type": "stream",
     "text": [
      "Fitting 10 folds for each of 16 candidates, totalling 160 fits\n",
      "[CV 1/10] END .......C=0.1, gamma=1, kernel=rbf;, score=0.909 total time=   7.5s\n",
      "[CV 2/10] END .......C=0.1, gamma=1, kernel=rbf;, score=0.914 total time=   7.5s\n",
      "[CV 3/10] END .......C=0.1, gamma=1, kernel=rbf;, score=0.930 total time=   7.6s\n",
      "[CV 4/10] END .......C=0.1, gamma=1, kernel=rbf;, score=0.919 total time=   7.5s\n",
      "[CV 5/10] END .......C=0.1, gamma=1, kernel=rbf;, score=0.915 total time=   7.5s\n",
      "[CV 6/10] END .......C=0.1, gamma=1, kernel=rbf;, score=0.916 total time=   7.4s\n",
      "[CV 7/10] END .......C=0.1, gamma=1, kernel=rbf;, score=0.912 total time=   7.5s\n",
      "[CV 8/10] END .......C=0.1, gamma=1, kernel=rbf;, score=0.907 total time=   7.5s\n",
      "[CV 9/10] END .......C=0.1, gamma=1, kernel=rbf;, score=0.911 total time=   7.6s\n",
      "[CV 10/10] END ......C=0.1, gamma=1, kernel=rbf;, score=0.914 total time=   7.5s\n",
      "[CV 1/10] END .....C=0.1, gamma=0.1, kernel=rbf;, score=0.890 total time=   5.3s\n",
      "[CV 2/10] END .....C=0.1, gamma=0.1, kernel=rbf;, score=0.893 total time=   5.2s\n",
      "[CV 3/10] END .....C=0.1, gamma=0.1, kernel=rbf;, score=0.906 total time=   5.5s\n",
      "[CV 4/10] END .....C=0.1, gamma=0.1, kernel=rbf;, score=0.888 total time=   5.4s\n",
      "[CV 5/10] END .....C=0.1, gamma=0.1, kernel=rbf;, score=0.886 total time=   5.2s\n",
      "[CV 6/10] END .....C=0.1, gamma=0.1, kernel=rbf;, score=0.898 total time=   5.3s\n",
      "[CV 7/10] END .....C=0.1, gamma=0.1, kernel=rbf;, score=0.884 total time=   5.3s\n",
      "[CV 8/10] END .....C=0.1, gamma=0.1, kernel=rbf;, score=0.884 total time=   5.2s\n",
      "[CV 9/10] END .....C=0.1, gamma=0.1, kernel=rbf;, score=0.884 total time=   5.2s\n",
      "[CV 10/10] END ....C=0.1, gamma=0.1, kernel=rbf;, score=0.879 total time=   5.2s\n",
      "[CV 1/10] END ....C=0.1, gamma=0.01, kernel=rbf;, score=0.833 total time=   6.6s\n",
      "[CV 2/10] END ....C=0.1, gamma=0.01, kernel=rbf;, score=0.837 total time=   6.7s\n",
      "[CV 3/10] END ....C=0.1, gamma=0.01, kernel=rbf;, score=0.837 total time=   6.8s\n",
      "[CV 4/10] END ....C=0.1, gamma=0.01, kernel=rbf;, score=0.840 total time=   6.8s\n",
      "[CV 5/10] END ....C=0.1, gamma=0.01, kernel=rbf;, score=0.828 total time=   6.7s\n",
      "[CV 6/10] END ....C=0.1, gamma=0.01, kernel=rbf;, score=0.839 total time=   6.7s\n",
      "[CV 7/10] END ....C=0.1, gamma=0.01, kernel=rbf;, score=0.837 total time=   6.5s\n",
      "[CV 8/10] END ....C=0.1, gamma=0.01, kernel=rbf;, score=0.827 total time=   6.5s\n",
      "[CV 9/10] END ....C=0.1, gamma=0.01, kernel=rbf;, score=0.828 total time=   6.5s\n",
      "[CV 10/10] END ...C=0.1, gamma=0.01, kernel=rbf;, score=0.831 total time=   6.5s\n",
      "[CV 1/10] END ...C=0.1, gamma=0.001, kernel=rbf;, score=0.801 total time=   8.9s\n",
      "[CV 2/10] END ...C=0.1, gamma=0.001, kernel=rbf;, score=0.808 total time=   9.0s\n",
      "[CV 3/10] END ...C=0.1, gamma=0.001, kernel=rbf;, score=0.815 total time=   9.1s\n",
      "[CV 4/10] END ...C=0.1, gamma=0.001, kernel=rbf;, score=0.815 total time=   9.1s\n",
      "[CV 5/10] END ...C=0.1, gamma=0.001, kernel=rbf;, score=0.808 total time=   9.1s\n",
      "[CV 6/10] END ...C=0.1, gamma=0.001, kernel=rbf;, score=0.819 total time=   8.9s\n",
      "[CV 7/10] END ...C=0.1, gamma=0.001, kernel=rbf;, score=0.808 total time=   8.4s\n",
      "[CV 8/10] END ...C=0.1, gamma=0.001, kernel=rbf;, score=0.803 total time=   8.8s\n",
      "[CV 9/10] END ...C=0.1, gamma=0.001, kernel=rbf;, score=0.804 total time=   8.8s\n",
      "[CV 10/10] END ..C=0.1, gamma=0.001, kernel=rbf;, score=0.809 total time=   8.7s\n",
      "[CV 1/10] END .........C=1, gamma=1, kernel=rbf;, score=0.940 total time=   8.0s\n",
      "[CV 2/10] END .........C=1, gamma=1, kernel=rbf;, score=0.948 total time=   7.9s\n",
      "[CV 3/10] END .........C=1, gamma=1, kernel=rbf;, score=0.945 total time=   7.9s\n",
      "[CV 4/10] END .........C=1, gamma=1, kernel=rbf;, score=0.947 total time=  10.1s\n",
      "[CV 5/10] END .........C=1, gamma=1, kernel=rbf;, score=0.938 total time=  10.3s\n",
      "[CV 6/10] END .........C=1, gamma=1, kernel=rbf;, score=0.940 total time=   8.2s\n",
      "[CV 7/10] END .........C=1, gamma=1, kernel=rbf;, score=0.939 total time=   8.1s\n",
      "[CV 8/10] END .........C=1, gamma=1, kernel=rbf;, score=0.942 total time=   7.9s\n",
      "[CV 9/10] END .........C=1, gamma=1, kernel=rbf;, score=0.941 total time=  10.5s\n",
      "[CV 10/10] END ........C=1, gamma=1, kernel=rbf;, score=0.943 total time=   8.3s\n",
      "[CV 1/10] END .......C=1, gamma=0.1, kernel=rbf;, score=0.902 total time=   4.3s\n",
      "[CV 2/10] END .......C=1, gamma=0.1, kernel=rbf;, score=0.906 total time=   4.2s\n",
      "[CV 3/10] END .......C=1, gamma=0.1, kernel=rbf;, score=0.912 total time=   4.3s\n",
      "[CV 4/10] END .......C=1, gamma=0.1, kernel=rbf;, score=0.906 total time=   4.3s\n",
      "[CV 5/10] END .......C=1, gamma=0.1, kernel=rbf;, score=0.904 total time=   4.3s\n",
      "[CV 6/10] END .......C=1, gamma=0.1, kernel=rbf;, score=0.907 total time=   4.3s\n",
      "[CV 7/10] END .......C=1, gamma=0.1, kernel=rbf;, score=0.901 total time=   4.3s\n",
      "[CV 8/10] END .......C=1, gamma=0.1, kernel=rbf;, score=0.901 total time=   4.3s\n",
      "[CV 9/10] END .......C=1, gamma=0.1, kernel=rbf;, score=0.898 total time=   4.5s\n",
      "[CV 10/10] END ......C=1, gamma=0.1, kernel=rbf;, score=0.898 total time=   4.4s\n",
      "[CV 1/10] END ......C=1, gamma=0.01, kernel=rbf;, score=0.858 total time=   5.8s\n",
      "[CV 2/10] END ......C=1, gamma=0.01, kernel=rbf;, score=0.864 total time=   5.8s\n",
      "[CV 3/10] END ......C=1, gamma=0.01, kernel=rbf;, score=0.868 total time=   5.8s\n",
      "[CV 4/10] END ......C=1, gamma=0.01, kernel=rbf;, score=0.861 total time=   5.7s\n",
      "[CV 5/10] END ......C=1, gamma=0.01, kernel=rbf;, score=0.853 total time=   5.7s\n",
      "[CV 6/10] END ......C=1, gamma=0.01, kernel=rbf;, score=0.869 total time=   5.8s\n",
      "[CV 7/10] END ......C=1, gamma=0.01, kernel=rbf;, score=0.863 total time=   5.7s\n",
      "[CV 8/10] END ......C=1, gamma=0.01, kernel=rbf;, score=0.847 total time=   5.7s\n",
      "[CV 9/10] END ......C=1, gamma=0.01, kernel=rbf;, score=0.847 total time=   5.8s\n",
      "[CV 10/10] END .....C=1, gamma=0.01, kernel=rbf;, score=0.849 total time=   5.7s\n",
      "[CV 1/10] END .....C=1, gamma=0.001, kernel=rbf;, score=0.822 total time=   6.8s\n",
      "[CV 2/10] END .....C=1, gamma=0.001, kernel=rbf;, score=0.822 total time=   6.7s\n",
      "[CV 3/10] END .....C=1, gamma=0.001, kernel=rbf;, score=0.826 total time=   6.8s\n",
      "[CV 4/10] END .....C=1, gamma=0.001, kernel=rbf;, score=0.840 total time=   6.9s\n",
      "[CV 5/10] END .....C=1, gamma=0.001, kernel=rbf;, score=0.820 total time=   6.6s\n",
      "[CV 6/10] END .....C=1, gamma=0.001, kernel=rbf;, score=0.826 total time=   6.8s\n",
      "[CV 7/10] END .....C=1, gamma=0.001, kernel=rbf;, score=0.821 total time=   6.7s\n",
      "[CV 8/10] END .....C=1, gamma=0.001, kernel=rbf;, score=0.819 total time=   6.7s\n",
      "[CV 9/10] END .....C=1, gamma=0.001, kernel=rbf;, score=0.816 total time=   6.6s\n",
      "[CV 10/10] END ....C=1, gamma=0.001, kernel=rbf;, score=0.822 total time=   6.6s\n",
      "[CV 1/10] END ........C=10, gamma=1, kernel=rbf;, score=0.948 total time=  13.9s\n",
      "[CV 2/10] END ........C=10, gamma=1, kernel=rbf;, score=0.956 total time=  11.2s\n",
      "[CV 3/10] END ........C=10, gamma=1, kernel=rbf;, score=0.950 total time=  11.2s\n",
      "[CV 4/10] END ........C=10, gamma=1, kernel=rbf;, score=0.958 total time=  11.3s\n",
      "[CV 5/10] END ........C=10, gamma=1, kernel=rbf;, score=0.951 total time=  14.1s\n",
      "[CV 6/10] END ........C=10, gamma=1, kernel=rbf;, score=0.950 total time=  14.3s\n",
      "[CV 7/10] END ........C=10, gamma=1, kernel=rbf;, score=0.947 total time=  14.4s\n",
      "[CV 8/10] END ........C=10, gamma=1, kernel=rbf;, score=0.948 total time=  11.6s\n",
      "[CV 9/10] END ........C=10, gamma=1, kernel=rbf;, score=0.958 total time=  14.2s\n",
      "[CV 10/10] END .......C=10, gamma=1, kernel=rbf;, score=0.951 total time=  14.6s\n",
      "[CV 1/10] END ......C=10, gamma=0.1, kernel=rbf;, score=0.915 total time=   5.0s\n",
      "[CV 2/10] END ......C=10, gamma=0.1, kernel=rbf;, score=0.922 total time=   4.8s\n",
      "[CV 3/10] END ......C=10, gamma=0.1, kernel=rbf;, score=0.926 total time=   5.1s\n",
      "[CV 4/10] END ......C=10, gamma=0.1, kernel=rbf;, score=0.919 total time=   5.0s\n",
      "[CV 5/10] END ......C=10, gamma=0.1, kernel=rbf;, score=0.924 total time=   4.9s\n",
      "[CV 6/10] END ......C=10, gamma=0.1, kernel=rbf;, score=0.918 total time=   4.9s\n",
      "[CV 7/10] END ......C=10, gamma=0.1, kernel=rbf;, score=0.914 total time=   5.0s\n",
      "[CV 8/10] END ......C=10, gamma=0.1, kernel=rbf;, score=0.918 total time=   4.7s\n",
      "[CV 9/10] END ......C=10, gamma=0.1, kernel=rbf;, score=0.912 total time=   4.9s\n",
      "[CV 10/10] END .....C=10, gamma=0.1, kernel=rbf;, score=0.917 total time=   4.8s\n",
      "[CV 1/10] END .....C=10, gamma=0.01, kernel=rbf;, score=0.884 total time=   5.4s\n",
      "[CV 2/10] END .....C=10, gamma=0.01, kernel=rbf;, score=0.883 total time=   5.3s\n",
      "[CV 3/10] END .....C=10, gamma=0.01, kernel=rbf;, score=0.896 total time=   5.4s\n",
      "[CV 4/10] END .....C=10, gamma=0.01, kernel=rbf;, score=0.892 total time=   5.4s\n",
      "[CV 5/10] END .....C=10, gamma=0.01, kernel=rbf;, score=0.880 total time=   5.4s\n",
      "[CV 6/10] END .....C=10, gamma=0.01, kernel=rbf;, score=0.896 total time=   5.5s\n",
      "[CV 7/10] END .....C=10, gamma=0.01, kernel=rbf;, score=0.883 total time=   5.4s\n",
      "[CV 8/10] END .....C=10, gamma=0.01, kernel=rbf;, score=0.878 total time=   5.3s\n",
      "[CV 9/10] END .....C=10, gamma=0.01, kernel=rbf;, score=0.872 total time=   5.2s\n",
      "[CV 10/10] END ....C=10, gamma=0.01, kernel=rbf;, score=0.875 total time=   5.3s\n",
      "[CV 1/10] END ....C=10, gamma=0.001, kernel=rbf;, score=0.831 total time=   6.1s\n",
      "[CV 2/10] END ....C=10, gamma=0.001, kernel=rbf;, score=0.833 total time=   6.1s\n",
      "[CV 3/10] END ....C=10, gamma=0.001, kernel=rbf;, score=0.840 total time=   6.2s\n",
      "[CV 4/10] END ....C=10, gamma=0.001, kernel=rbf;, score=0.846 total time=   6.3s\n",
      "[CV 5/10] END ....C=10, gamma=0.001, kernel=rbf;, score=0.827 total time=   6.3s\n",
      "[CV 6/10] END ....C=10, gamma=0.001, kernel=rbf;, score=0.841 total time=   6.2s\n",
      "[CV 7/10] END ....C=10, gamma=0.001, kernel=rbf;, score=0.830 total time=   6.1s\n",
      "[CV 8/10] END ....C=10, gamma=0.001, kernel=rbf;, score=0.829 total time=   6.2s\n",
      "[CV 9/10] END ....C=10, gamma=0.001, kernel=rbf;, score=0.820 total time=   6.2s\n",
      "[CV 10/10] END ...C=10, gamma=0.001, kernel=rbf;, score=0.830 total time=   6.5s\n",
      "[CV 1/10] END .......C=100, gamma=1, kernel=rbf;, score=0.950 total time=  14.7s\n",
      "[CV 2/10] END .......C=100, gamma=1, kernel=rbf;, score=0.957 total time=  14.4s\n",
      "[CV 3/10] END .......C=100, gamma=1, kernel=rbf;, score=0.953 total time=  11.0s\n",
      "[CV 4/10] END .......C=100, gamma=1, kernel=rbf;, score=0.956 total time=  13.7s\n",
      "[CV 5/10] END .......C=100, gamma=1, kernel=rbf;, score=0.952 total time=  10.8s\n",
      "[CV 6/10] END .......C=100, gamma=1, kernel=rbf;, score=0.948 total time=  11.1s\n",
      "[CV 7/10] END .......C=100, gamma=1, kernel=rbf;, score=0.946 total time=  11.2s\n",
      "[CV 8/10] END .......C=100, gamma=1, kernel=rbf;, score=0.949 total time=  11.3s\n",
      "[CV 9/10] END .......C=100, gamma=1, kernel=rbf;, score=0.959 total time=  11.4s\n",
      "[CV 10/10] END ......C=100, gamma=1, kernel=rbf;, score=0.952 total time=  14.0s\n",
      "[CV 1/10] END .....C=100, gamma=0.1, kernel=rbf;, score=0.928 total time=   8.8s\n",
      "[CV 2/10] END .....C=100, gamma=0.1, kernel=rbf;, score=0.938 total time=   9.0s\n",
      "[CV 3/10] END .....C=100, gamma=0.1, kernel=rbf;, score=0.939 total time=   9.3s\n",
      "[CV 4/10] END .....C=100, gamma=0.1, kernel=rbf;, score=0.932 total time=   9.3s\n",
      "[CV 5/10] END .....C=100, gamma=0.1, kernel=rbf;, score=0.929 total time=   9.7s\n",
      "[CV 6/10] END .....C=100, gamma=0.1, kernel=rbf;, score=0.934 total time=  10.0s\n",
      "[CV 7/10] END .....C=100, gamma=0.1, kernel=rbf;, score=0.929 total time=   9.5s\n",
      "[CV 8/10] END .....C=100, gamma=0.1, kernel=rbf;, score=0.928 total time=   9.6s\n",
      "[CV 9/10] END .....C=100, gamma=0.1, kernel=rbf;, score=0.922 total time=   9.4s\n",
      "[CV 10/10] END ....C=100, gamma=0.1, kernel=rbf;, score=0.928 total time=   9.2s\n",
      "[CV 1/10] END ....C=100, gamma=0.01, kernel=rbf;, score=0.890 total time=   6.7s\n",
      "[CV 2/10] END ....C=100, gamma=0.01, kernel=rbf;, score=0.895 total time=   6.7s\n",
      "[CV 3/10] END ....C=100, gamma=0.01, kernel=rbf;, score=0.906 total time=   6.8s\n",
      "[CV 4/10] END ....C=100, gamma=0.01, kernel=rbf;, score=0.898 total time=   6.9s\n",
      "[CV 5/10] END ....C=100, gamma=0.01, kernel=rbf;, score=0.894 total time=   6.9s\n",
      "[CV 6/10] END ....C=100, gamma=0.01, kernel=rbf;, score=0.900 total time=   6.8s\n",
      "[CV 7/10] END ....C=100, gamma=0.01, kernel=rbf;, score=0.889 total time=   6.9s\n",
      "[CV 8/10] END ....C=100, gamma=0.01, kernel=rbf;, score=0.887 total time=   6.5s\n",
      "[CV 9/10] END ....C=100, gamma=0.01, kernel=rbf;, score=0.889 total time=   6.6s\n",
      "[CV 10/10] END ...C=100, gamma=0.01, kernel=rbf;, score=0.888 total time=   6.7s\n",
      "[CV 1/10] END ...C=100, gamma=0.001, kernel=rbf;, score=0.856 total time=   6.1s\n",
      "[CV 2/10] END ...C=100, gamma=0.001, kernel=rbf;, score=0.858 total time=   6.3s\n",
      "[CV 3/10] END ...C=100, gamma=0.001, kernel=rbf;, score=0.866 total time=   6.4s\n",
      "[CV 4/10] END ...C=100, gamma=0.001, kernel=rbf;, score=0.858 total time=   6.2s\n",
      "[CV 5/10] END ...C=100, gamma=0.001, kernel=rbf;, score=0.854 total time=   6.0s\n",
      "[CV 6/10] END ...C=100, gamma=0.001, kernel=rbf;, score=0.870 total time=   6.0s\n",
      "[CV 7/10] END ...C=100, gamma=0.001, kernel=rbf;, score=0.858 total time=   6.3s\n",
      "[CV 8/10] END ...C=100, gamma=0.001, kernel=rbf;, score=0.845 total time=   6.2s\n",
      "[CV 9/10] END ...C=100, gamma=0.001, kernel=rbf;, score=0.847 total time=   6.3s\n",
      "[CV 10/10] END ..C=100, gamma=0.001, kernel=rbf;, score=0.845 total time=   6.6s\n"
     ]
    },
    {
     "data": {
      "text/plain": [
       "GridSearchCV(cv=10, estimator=SVC(),\n",
       "             param_grid={'C': [0.1, 1, 10, 100], 'gamma': [1, 0.1, 0.01, 0.001],\n",
       "                         'kernel': ['rbf']},\n",
       "             scoring='accuracy', verbose=3)"
      ]
     },
     "execution_count": 62,
     "metadata": {},
     "output_type": "execute_result"
    }
   ],
   "source": [
    "grid_search.fit(X_train,y_train)"
   ]
  },
  {
   "cell_type": "code",
   "execution_count": 63,
   "id": "925a40e2",
   "metadata": {},
   "outputs": [
    {
     "name": "stdout",
     "output_type": "stream",
     "text": [
      "SVC(C=100, gamma=1)\n"
     ]
    }
   ],
   "source": [
    "print(grid_search.best_estimator_)"
   ]
  },
  {
   "cell_type": "code",
   "execution_count": 64,
   "id": "ba866338",
   "metadata": {},
   "outputs": [
    {
     "name": "stdout",
     "output_type": "stream",
     "text": [
      "0.9520917470944287\n"
     ]
    }
   ],
   "source": [
    "print(grid_search.best_score_)"
   ]
  },
  {
   "cell_type": "code",
   "execution_count": 65,
   "id": "8acd770f",
   "metadata": {},
   "outputs": [
    {
     "name": "stdout",
     "output_type": "stream",
     "text": [
      "              precision    recall  f1-score   support\n",
      "\n",
      "           0       0.91      0.86      0.88      2200\n",
      "           1       0.89      0.93      0.91      2664\n",
      "\n",
      "    accuracy                           0.90      4864\n",
      "   macro avg       0.90      0.90      0.90      4864\n",
      "weighted avg       0.90      0.90      0.90      4864\n",
      "\n"
     ]
    }
   ],
   "source": [
    "print(classification_report(spred,y_test))"
   ]
  },
  {
   "cell_type": "code",
   "execution_count": 66,
   "id": "32b9a3ca",
   "metadata": {},
   "outputs": [],
   "source": [
    "#using xgboost"
   ]
  },
  {
   "cell_type": "code",
   "execution_count": 67,
   "id": "a3bf561d",
   "metadata": {},
   "outputs": [
    {
     "name": "stdout",
     "output_type": "stream",
     "text": [
      "[12:59:01] WARNING: C:/Users/Administrator/workspace/xgboost-win64_release_1.5.1/src/learner.cc:1115: Starting in XGBoost 1.3.0, the default evaluation metric used with the objective 'binary:logistic' was changed from 'error' to 'logloss'. Explicitly set eval_metric if you'd like to restore the old behavior.\n"
     ]
    },
    {
     "name": "stderr",
     "output_type": "stream",
     "text": [
      "C:\\Users\\abhis\\anaconda3\\lib\\site-packages\\xgboost\\sklearn.py:1224: UserWarning: The use of label encoder in XGBClassifier is deprecated and will be removed in a future release. To remove this warning, do the following: 1) Pass option use_label_encoder=False when constructing XGBClassifier object; and 2) Encode your labels (y) as integers starting with 0, i.e. 0, 1, 2, ..., [num_class - 1].\n",
      "  warnings.warn(label_encoder_deprecation_msg, UserWarning)\n"
     ]
    },
    {
     "data": {
      "text/plain": [
       "XGBClassifier(base_score=0.5, booster='gbtree', colsample_bylevel=1,\n",
       "              colsample_bynode=1, colsample_bytree=1, enable_categorical=False,\n",
       "              gamma=0, gpu_id=-1, importance_type=None,\n",
       "              interaction_constraints='', learning_rate=0.300000012,\n",
       "              max_delta_step=0, max_depth=6, min_child_weight=1, missing=nan,\n",
       "              monotone_constraints='()', n_estimators=100, n_jobs=8,\n",
       "              num_parallel_tree=1, predictor='auto', random_state=0,\n",
       "              reg_alpha=0, reg_lambda=1, scale_pos_weight=1, subsample=1,\n",
       "              tree_method='exact', validate_parameters=1, verbosity=None)"
      ]
     },
     "execution_count": 67,
     "metadata": {},
     "output_type": "execute_result"
    }
   ],
   "source": [
    "xmod = XGBClassifier()\n",
    "xmod.fit(X_train,y_train)"
   ]
  },
  {
   "cell_type": "code",
   "execution_count": 68,
   "id": "3b9e3d53",
   "metadata": {},
   "outputs": [
    {
     "name": "stdout",
     "output_type": "stream",
     "text": [
      "              precision    recall  f1-score   support\n",
      "\n",
      "           0       0.95      0.90      0.93      2203\n",
      "           1       0.92      0.96      0.94      2661\n",
      "\n",
      "    accuracy                           0.93      4864\n",
      "   macro avg       0.94      0.93      0.93      4864\n",
      "weighted avg       0.93      0.93      0.93      4864\n",
      "\n"
     ]
    }
   ],
   "source": [
    "print(classification_report(xmod.predict(X_test),y_test))"
   ]
  },
  {
   "cell_type": "code",
   "execution_count": 69,
   "id": "5d87ca1e",
   "metadata": {},
   "outputs": [],
   "source": [
    "#Using decision trees"
   ]
  },
  {
   "cell_type": "code",
   "execution_count": 70,
   "id": "79eda421",
   "metadata": {},
   "outputs": [
    {
     "data": {
      "text/plain": [
       "DecisionTreeClassifier()"
      ]
     },
     "execution_count": 70,
     "metadata": {},
     "output_type": "execute_result"
    }
   ],
   "source": [
    "dmod = DecisionTreeClassifier()\n",
    "dmod.fit(X_train,y_train)"
   ]
  },
  {
   "cell_type": "code",
   "execution_count": 71,
   "id": "4d0ece04",
   "metadata": {},
   "outputs": [
    {
     "name": "stdout",
     "output_type": "stream",
     "text": [
      "              precision    recall  f1-score   support\n",
      "\n",
      "           0       0.91      0.90      0.90      2102\n",
      "           1       0.93      0.93      0.93      2762\n",
      "\n",
      "    accuracy                           0.92      4864\n",
      "   macro avg       0.92      0.92      0.92      4864\n",
      "weighted avg       0.92      0.92      0.92      4864\n",
      "\n"
     ]
    }
   ],
   "source": [
    "print(classification_report(dmod.predict(X_test),y_test))"
   ]
  },
  {
   "cell_type": "code",
   "execution_count": 72,
   "id": "04ea79fd",
   "metadata": {},
   "outputs": [],
   "source": [
    "#Hyperparameter tuning"
   ]
  },
  {
   "cell_type": "code",
   "execution_count": 73,
   "id": "4fa94c64",
   "metadata": {},
   "outputs": [],
   "source": [
    "params = {\n",
    "    'max_depth': [2, 3, 5, 10, 20],\n",
    "    'min_samples_leaf': [5, 10, 20, 50, 100],\n",
    "    'criterion': [\"gini\", \"entropy\"]\n",
    "}"
   ]
  },
  {
   "cell_type": "code",
   "execution_count": 74,
   "id": "6582d089",
   "metadata": {},
   "outputs": [],
   "source": [
    "grid_search = GridSearchCV(estimator=dmod, \n",
    "                           param_grid=params,\n",
    "                           cv = 10,\n",
    "                           verbose=2, scoring = \"accuracy\")"
   ]
  },
  {
   "cell_type": "code",
   "execution_count": 75,
   "id": "e3492b25",
   "metadata": {},
   "outputs": [
    {
     "name": "stdout",
     "output_type": "stream",
     "text": [
      "Fitting 10 folds for each of 50 candidates, totalling 500 fits\n",
      "[CV] END ....criterion=gini, max_depth=2, min_samples_leaf=5; total time=   0.0s\n",
      "[CV] END ....criterion=gini, max_depth=2, min_samples_leaf=5; total time=   0.0s\n",
      "[CV] END ....criterion=gini, max_depth=2, min_samples_leaf=5; total time=   0.0s\n",
      "[CV] END ....criterion=gini, max_depth=2, min_samples_leaf=5; total time=   0.0s\n",
      "[CV] END ....criterion=gini, max_depth=2, min_samples_leaf=5; total time=   0.0s\n",
      "[CV] END ....criterion=gini, max_depth=2, min_samples_leaf=5; total time=   0.0s\n",
      "[CV] END ....criterion=gini, max_depth=2, min_samples_leaf=5; total time=   0.0s\n",
      "[CV] END ....criterion=gini, max_depth=2, min_samples_leaf=5; total time=   0.0s\n",
      "[CV] END ....criterion=gini, max_depth=2, min_samples_leaf=5; total time=   0.0s\n",
      "[CV] END ....criterion=gini, max_depth=2, min_samples_leaf=5; total time=   0.0s\n",
      "[CV] END ...criterion=gini, max_depth=2, min_samples_leaf=10; total time=   0.0s\n",
      "[CV] END ...criterion=gini, max_depth=2, min_samples_leaf=10; total time=   0.0s\n",
      "[CV] END ...criterion=gini, max_depth=2, min_samples_leaf=10; total time=   0.0s\n",
      "[CV] END ...criterion=gini, max_depth=2, min_samples_leaf=10; total time=   0.0s\n",
      "[CV] END ...criterion=gini, max_depth=2, min_samples_leaf=10; total time=   0.0s\n",
      "[CV] END ...criterion=gini, max_depth=2, min_samples_leaf=10; total time=   0.0s\n",
      "[CV] END ...criterion=gini, max_depth=2, min_samples_leaf=10; total time=   0.0s\n",
      "[CV] END ...criterion=gini, max_depth=2, min_samples_leaf=10; total time=   0.0s\n",
      "[CV] END ...criterion=gini, max_depth=2, min_samples_leaf=10; total time=   0.0s\n",
      "[CV] END ...criterion=gini, max_depth=2, min_samples_leaf=10; total time=   0.0s\n",
      "[CV] END ...criterion=gini, max_depth=2, min_samples_leaf=20; total time=   0.0s\n",
      "[CV] END ...criterion=gini, max_depth=2, min_samples_leaf=20; total time=   0.0s\n",
      "[CV] END ...criterion=gini, max_depth=2, min_samples_leaf=20; total time=   0.0s\n",
      "[CV] END ...criterion=gini, max_depth=2, min_samples_leaf=20; total time=   0.0s\n",
      "[CV] END ...criterion=gini, max_depth=2, min_samples_leaf=20; total time=   0.0s\n",
      "[CV] END ...criterion=gini, max_depth=2, min_samples_leaf=20; total time=   0.0s\n",
      "[CV] END ...criterion=gini, max_depth=2, min_samples_leaf=20; total time=   0.0s\n",
      "[CV] END ...criterion=gini, max_depth=2, min_samples_leaf=20; total time=   0.0s\n",
      "[CV] END ...criterion=gini, max_depth=2, min_samples_leaf=20; total time=   0.0s\n",
      "[CV] END ...criterion=gini, max_depth=2, min_samples_leaf=20; total time=   0.0s\n",
      "[CV] END ...criterion=gini, max_depth=2, min_samples_leaf=50; total time=   0.0s\n",
      "[CV] END ...criterion=gini, max_depth=2, min_samples_leaf=50; total time=   0.0s\n",
      "[CV] END ...criterion=gini, max_depth=2, min_samples_leaf=50; total time=   0.0s\n",
      "[CV] END ...criterion=gini, max_depth=2, min_samples_leaf=50; total time=   0.0s\n",
      "[CV] END ...criterion=gini, max_depth=2, min_samples_leaf=50; total time=   0.0s\n",
      "[CV] END ...criterion=gini, max_depth=2, min_samples_leaf=50; total time=   0.0s\n",
      "[CV] END ...criterion=gini, max_depth=2, min_samples_leaf=50; total time=   0.0s\n",
      "[CV] END ...criterion=gini, max_depth=2, min_samples_leaf=50; total time=   0.0s\n",
      "[CV] END ...criterion=gini, max_depth=2, min_samples_leaf=50; total time=   0.0s\n",
      "[CV] END ...criterion=gini, max_depth=2, min_samples_leaf=50; total time=   0.0s\n",
      "[CV] END ..criterion=gini, max_depth=2, min_samples_leaf=100; total time=   0.0s\n",
      "[CV] END ..criterion=gini, max_depth=2, min_samples_leaf=100; total time=   0.0s\n",
      "[CV] END ..criterion=gini, max_depth=2, min_samples_leaf=100; total time=   0.0s\n",
      "[CV] END ..criterion=gini, max_depth=2, min_samples_leaf=100; total time=   0.0s\n",
      "[CV] END ..criterion=gini, max_depth=2, min_samples_leaf=100; total time=   0.0s\n",
      "[CV] END ..criterion=gini, max_depth=2, min_samples_leaf=100; total time=   0.0s\n",
      "[CV] END ..criterion=gini, max_depth=2, min_samples_leaf=100; total time=   0.0s\n",
      "[CV] END ..criterion=gini, max_depth=2, min_samples_leaf=100; total time=   0.0s\n",
      "[CV] END ..criterion=gini, max_depth=2, min_samples_leaf=100; total time=   0.0s\n",
      "[CV] END ..criterion=gini, max_depth=2, min_samples_leaf=100; total time=   0.0s\n",
      "[CV] END ....criterion=gini, max_depth=3, min_samples_leaf=5; total time=   0.0s\n",
      "[CV] END ....criterion=gini, max_depth=3, min_samples_leaf=5; total time=   0.0s\n",
      "[CV] END ....criterion=gini, max_depth=3, min_samples_leaf=5; total time=   0.0s\n",
      "[CV] END ....criterion=gini, max_depth=3, min_samples_leaf=5; total time=   0.0s\n",
      "[CV] END ....criterion=gini, max_depth=3, min_samples_leaf=5; total time=   0.0s\n",
      "[CV] END ....criterion=gini, max_depth=3, min_samples_leaf=5; total time=   0.0s\n",
      "[CV] END ....criterion=gini, max_depth=3, min_samples_leaf=5; total time=   0.0s\n",
      "[CV] END ....criterion=gini, max_depth=3, min_samples_leaf=5; total time=   0.0s\n",
      "[CV] END ....criterion=gini, max_depth=3, min_samples_leaf=5; total time=   0.0s\n",
      "[CV] END ....criterion=gini, max_depth=3, min_samples_leaf=5; total time=   0.0s\n",
      "[CV] END ...criterion=gini, max_depth=3, min_samples_leaf=10; total time=   0.0s\n",
      "[CV] END ...criterion=gini, max_depth=3, min_samples_leaf=10; total time=   0.0s\n",
      "[CV] END ...criterion=gini, max_depth=3, min_samples_leaf=10; total time=   0.0s\n",
      "[CV] END ...criterion=gini, max_depth=3, min_samples_leaf=10; total time=   0.0s\n",
      "[CV] END ...criterion=gini, max_depth=3, min_samples_leaf=10; total time=   0.0s\n",
      "[CV] END ...criterion=gini, max_depth=3, min_samples_leaf=10; total time=   0.0s\n",
      "[CV] END ...criterion=gini, max_depth=3, min_samples_leaf=10; total time=   0.0s\n",
      "[CV] END ...criterion=gini, max_depth=3, min_samples_leaf=10; total time=   0.0s\n",
      "[CV] END ...criterion=gini, max_depth=3, min_samples_leaf=10; total time=   0.0s\n",
      "[CV] END ...criterion=gini, max_depth=3, min_samples_leaf=10; total time=   0.0s\n",
      "[CV] END ...criterion=gini, max_depth=3, min_samples_leaf=20; total time=   0.0s\n",
      "[CV] END ...criterion=gini, max_depth=3, min_samples_leaf=20; total time=   0.0s\n",
      "[CV] END ...criterion=gini, max_depth=3, min_samples_leaf=20; total time=   0.0s\n",
      "[CV] END ...criterion=gini, max_depth=3, min_samples_leaf=20; total time=   0.0s\n",
      "[CV] END ...criterion=gini, max_depth=3, min_samples_leaf=20; total time=   0.0s\n",
      "[CV] END ...criterion=gini, max_depth=3, min_samples_leaf=20; total time=   0.0s\n",
      "[CV] END ...criterion=gini, max_depth=3, min_samples_leaf=20; total time=   0.0s\n",
      "[CV] END ...criterion=gini, max_depth=3, min_samples_leaf=20; total time=   0.0s\n",
      "[CV] END ...criterion=gini, max_depth=3, min_samples_leaf=20; total time=   0.0s\n",
      "[CV] END ...criterion=gini, max_depth=3, min_samples_leaf=20; total time=   0.0s\n",
      "[CV] END ...criterion=gini, max_depth=3, min_samples_leaf=50; total time=   0.0s\n",
      "[CV] END ...criterion=gini, max_depth=3, min_samples_leaf=50; total time=   0.0s\n",
      "[CV] END ...criterion=gini, max_depth=3, min_samples_leaf=50; total time=   0.0s\n",
      "[CV] END ...criterion=gini, max_depth=3, min_samples_leaf=50; total time=   0.0s\n",
      "[CV] END ...criterion=gini, max_depth=3, min_samples_leaf=50; total time=   0.0s\n",
      "[CV] END ...criterion=gini, max_depth=3, min_samples_leaf=50; total time=   0.0s\n",
      "[CV] END ...criterion=gini, max_depth=3, min_samples_leaf=50; total time=   0.0s\n",
      "[CV] END ...criterion=gini, max_depth=3, min_samples_leaf=50; total time=   0.0s\n",
      "[CV] END ...criterion=gini, max_depth=3, min_samples_leaf=50; total time=   0.0s\n",
      "[CV] END ...criterion=gini, max_depth=3, min_samples_leaf=50; total time=   0.0s\n",
      "[CV] END ..criterion=gini, max_depth=3, min_samples_leaf=100; total time=   0.0s\n",
      "[CV] END ..criterion=gini, max_depth=3, min_samples_leaf=100; total time=   0.0s\n",
      "[CV] END ..criterion=gini, max_depth=3, min_samples_leaf=100; total time=   0.0s\n",
      "[CV] END ..criterion=gini, max_depth=3, min_samples_leaf=100; total time=   0.0s\n",
      "[CV] END ..criterion=gini, max_depth=3, min_samples_leaf=100; total time=   0.0s\n",
      "[CV] END ..criterion=gini, max_depth=3, min_samples_leaf=100; total time=   0.0s\n",
      "[CV] END ..criterion=gini, max_depth=3, min_samples_leaf=100; total time=   0.0s\n",
      "[CV] END ..criterion=gini, max_depth=3, min_samples_leaf=100; total time=   0.0s\n",
      "[CV] END ..criterion=gini, max_depth=3, min_samples_leaf=100; total time=   0.0s\n",
      "[CV] END ..criterion=gini, max_depth=3, min_samples_leaf=100; total time=   0.0s\n",
      "[CV] END ....criterion=gini, max_depth=5, min_samples_leaf=5; total time=   0.0s\n",
      "[CV] END ....criterion=gini, max_depth=5, min_samples_leaf=5; total time=   0.0s\n",
      "[CV] END ....criterion=gini, max_depth=5, min_samples_leaf=5; total time=   0.0s\n",
      "[CV] END ....criterion=gini, max_depth=5, min_samples_leaf=5; total time=   0.0s\n",
      "[CV] END ....criterion=gini, max_depth=5, min_samples_leaf=5; total time=   0.0s\n",
      "[CV] END ....criterion=gini, max_depth=5, min_samples_leaf=5; total time=   0.0s\n",
      "[CV] END ....criterion=gini, max_depth=5, min_samples_leaf=5; total time=   0.0s\n",
      "[CV] END ....criterion=gini, max_depth=5, min_samples_leaf=5; total time=   0.0s\n",
      "[CV] END ....criterion=gini, max_depth=5, min_samples_leaf=5; total time=   0.0s\n",
      "[CV] END ....criterion=gini, max_depth=5, min_samples_leaf=5; total time=   0.0s\n",
      "[CV] END ...criterion=gini, max_depth=5, min_samples_leaf=10; total time=   0.0s\n",
      "[CV] END ...criterion=gini, max_depth=5, min_samples_leaf=10; total time=   0.0s\n",
      "[CV] END ...criterion=gini, max_depth=5, min_samples_leaf=10; total time=   0.0s\n",
      "[CV] END ...criterion=gini, max_depth=5, min_samples_leaf=10; total time=   0.0s\n",
      "[CV] END ...criterion=gini, max_depth=5, min_samples_leaf=10; total time=   0.0s\n",
      "[CV] END ...criterion=gini, max_depth=5, min_samples_leaf=10; total time=   0.0s\n",
      "[CV] END ...criterion=gini, max_depth=5, min_samples_leaf=10; total time=   0.0s\n",
      "[CV] END ...criterion=gini, max_depth=5, min_samples_leaf=10; total time=   0.0s\n",
      "[CV] END ...criterion=gini, max_depth=5, min_samples_leaf=10; total time=   0.0s\n",
      "[CV] END ...criterion=gini, max_depth=5, min_samples_leaf=10; total time=   0.0s\n",
      "[CV] END ...criterion=gini, max_depth=5, min_samples_leaf=20; total time=   0.0s\n",
      "[CV] END ...criterion=gini, max_depth=5, min_samples_leaf=20; total time=   0.0s\n",
      "[CV] END ...criterion=gini, max_depth=5, min_samples_leaf=20; total time=   0.0s\n",
      "[CV] END ...criterion=gini, max_depth=5, min_samples_leaf=20; total time=   0.0s\n",
      "[CV] END ...criterion=gini, max_depth=5, min_samples_leaf=20; total time=   0.0s\n",
      "[CV] END ...criterion=gini, max_depth=5, min_samples_leaf=20; total time=   0.0s\n",
      "[CV] END ...criterion=gini, max_depth=5, min_samples_leaf=20; total time=   0.0s\n",
      "[CV] END ...criterion=gini, max_depth=5, min_samples_leaf=20; total time=   0.0s\n",
      "[CV] END ...criterion=gini, max_depth=5, min_samples_leaf=20; total time=   0.0s\n",
      "[CV] END ...criterion=gini, max_depth=5, min_samples_leaf=20; total time=   0.0s\n",
      "[CV] END ...criterion=gini, max_depth=5, min_samples_leaf=50; total time=   0.0s\n",
      "[CV] END ...criterion=gini, max_depth=5, min_samples_leaf=50; total time=   0.0s\n",
      "[CV] END ...criterion=gini, max_depth=5, min_samples_leaf=50; total time=   0.0s\n",
      "[CV] END ...criterion=gini, max_depth=5, min_samples_leaf=50; total time=   0.0s\n",
      "[CV] END ...criterion=gini, max_depth=5, min_samples_leaf=50; total time=   0.0s\n",
      "[CV] END ...criterion=gini, max_depth=5, min_samples_leaf=50; total time=   0.0s\n",
      "[CV] END ...criterion=gini, max_depth=5, min_samples_leaf=50; total time=   0.0s\n",
      "[CV] END ...criterion=gini, max_depth=5, min_samples_leaf=50; total time=   0.0s\n",
      "[CV] END ...criterion=gini, max_depth=5, min_samples_leaf=50; total time=   0.0s\n",
      "[CV] END ...criterion=gini, max_depth=5, min_samples_leaf=50; total time=   0.0s\n",
      "[CV] END ..criterion=gini, max_depth=5, min_samples_leaf=100; total time=   0.0s\n",
      "[CV] END ..criterion=gini, max_depth=5, min_samples_leaf=100; total time=   0.0s\n",
      "[CV] END ..criterion=gini, max_depth=5, min_samples_leaf=100; total time=   0.0s\n",
      "[CV] END ..criterion=gini, max_depth=5, min_samples_leaf=100; total time=   0.0s\n",
      "[CV] END ..criterion=gini, max_depth=5, min_samples_leaf=100; total time=   0.0s\n",
      "[CV] END ..criterion=gini, max_depth=5, min_samples_leaf=100; total time=   0.0s\n",
      "[CV] END ..criterion=gini, max_depth=5, min_samples_leaf=100; total time=   0.0s\n",
      "[CV] END ..criterion=gini, max_depth=5, min_samples_leaf=100; total time=   0.0s\n",
      "[CV] END ..criterion=gini, max_depth=5, min_samples_leaf=100; total time=   0.0s\n",
      "[CV] END ..criterion=gini, max_depth=5, min_samples_leaf=100; total time=   0.0s\n",
      "[CV] END ...criterion=gini, max_depth=10, min_samples_leaf=5; total time=   0.0s\n",
      "[CV] END ...criterion=gini, max_depth=10, min_samples_leaf=5; total time=   0.0s\n",
      "[CV] END ...criterion=gini, max_depth=10, min_samples_leaf=5; total time=   0.0s\n",
      "[CV] END ...criterion=gini, max_depth=10, min_samples_leaf=5; total time=   0.0s\n",
      "[CV] END ...criterion=gini, max_depth=10, min_samples_leaf=5; total time=   0.0s\n",
      "[CV] END ...criterion=gini, max_depth=10, min_samples_leaf=5; total time=   0.0s\n",
      "[CV] END ...criterion=gini, max_depth=10, min_samples_leaf=5; total time=   0.0s\n",
      "[CV] END ...criterion=gini, max_depth=10, min_samples_leaf=5; total time=   0.0s\n",
      "[CV] END ...criterion=gini, max_depth=10, min_samples_leaf=5; total time=   0.0s\n",
      "[CV] END ...criterion=gini, max_depth=10, min_samples_leaf=5; total time=   0.0s\n",
      "[CV] END ..criterion=gini, max_depth=10, min_samples_leaf=10; total time=   0.0s\n",
      "[CV] END ..criterion=gini, max_depth=10, min_samples_leaf=10; total time=   0.0s\n",
      "[CV] END ..criterion=gini, max_depth=10, min_samples_leaf=10; total time=   0.0s\n",
      "[CV] END ..criterion=gini, max_depth=10, min_samples_leaf=10; total time=   0.0s\n",
      "[CV] END ..criterion=gini, max_depth=10, min_samples_leaf=10; total time=   0.0s\n",
      "[CV] END ..criterion=gini, max_depth=10, min_samples_leaf=10; total time=   0.0s\n",
      "[CV] END ..criterion=gini, max_depth=10, min_samples_leaf=10; total time=   0.0s\n",
      "[CV] END ..criterion=gini, max_depth=10, min_samples_leaf=10; total time=   0.0s\n",
      "[CV] END ..criterion=gini, max_depth=10, min_samples_leaf=10; total time=   0.0s\n",
      "[CV] END ..criterion=gini, max_depth=10, min_samples_leaf=10; total time=   0.0s\n",
      "[CV] END ..criterion=gini, max_depth=10, min_samples_leaf=20; total time=   0.0s\n",
      "[CV] END ..criterion=gini, max_depth=10, min_samples_leaf=20; total time=   0.0s\n",
      "[CV] END ..criterion=gini, max_depth=10, min_samples_leaf=20; total time=   0.0s\n",
      "[CV] END ..criterion=gini, max_depth=10, min_samples_leaf=20; total time=   0.0s\n",
      "[CV] END ..criterion=gini, max_depth=10, min_samples_leaf=20; total time=   0.0s\n",
      "[CV] END ..criterion=gini, max_depth=10, min_samples_leaf=20; total time=   0.0s\n",
      "[CV] END ..criterion=gini, max_depth=10, min_samples_leaf=20; total time=   0.0s\n",
      "[CV] END ..criterion=gini, max_depth=10, min_samples_leaf=20; total time=   0.0s\n",
      "[CV] END ..criterion=gini, max_depth=10, min_samples_leaf=20; total time=   0.0s\n",
      "[CV] END ..criterion=gini, max_depth=10, min_samples_leaf=20; total time=   0.0s\n",
      "[CV] END ..criterion=gini, max_depth=10, min_samples_leaf=50; total time=   0.0s\n",
      "[CV] END ..criterion=gini, max_depth=10, min_samples_leaf=50; total time=   0.0s\n",
      "[CV] END ..criterion=gini, max_depth=10, min_samples_leaf=50; total time=   0.0s\n",
      "[CV] END ..criterion=gini, max_depth=10, min_samples_leaf=50; total time=   0.0s\n",
      "[CV] END ..criterion=gini, max_depth=10, min_samples_leaf=50; total time=   0.0s\n",
      "[CV] END ..criterion=gini, max_depth=10, min_samples_leaf=50; total time=   0.0s\n",
      "[CV] END ..criterion=gini, max_depth=10, min_samples_leaf=50; total time=   0.0s\n",
      "[CV] END ..criterion=gini, max_depth=10, min_samples_leaf=50; total time=   0.0s\n",
      "[CV] END ..criterion=gini, max_depth=10, min_samples_leaf=50; total time=   0.0s\n",
      "[CV] END ..criterion=gini, max_depth=10, min_samples_leaf=50; total time=   0.0s\n",
      "[CV] END .criterion=gini, max_depth=10, min_samples_leaf=100; total time=   0.0s\n",
      "[CV] END .criterion=gini, max_depth=10, min_samples_leaf=100; total time=   0.0s\n",
      "[CV] END .criterion=gini, max_depth=10, min_samples_leaf=100; total time=   0.0s\n",
      "[CV] END .criterion=gini, max_depth=10, min_samples_leaf=100; total time=   0.0s\n",
      "[CV] END .criterion=gini, max_depth=10, min_samples_leaf=100; total time=   0.0s\n",
      "[CV] END .criterion=gini, max_depth=10, min_samples_leaf=100; total time=   0.0s\n",
      "[CV] END .criterion=gini, max_depth=10, min_samples_leaf=100; total time=   0.0s\n",
      "[CV] END .criterion=gini, max_depth=10, min_samples_leaf=100; total time=   0.0s\n",
      "[CV] END .criterion=gini, max_depth=10, min_samples_leaf=100; total time=   0.0s\n",
      "[CV] END .criterion=gini, max_depth=10, min_samples_leaf=100; total time=   0.0s\n",
      "[CV] END ...criterion=gini, max_depth=20, min_samples_leaf=5; total time=   0.0s\n",
      "[CV] END ...criterion=gini, max_depth=20, min_samples_leaf=5; total time=   0.0s\n",
      "[CV] END ...criterion=gini, max_depth=20, min_samples_leaf=5; total time=   0.0s\n",
      "[CV] END ...criterion=gini, max_depth=20, min_samples_leaf=5; total time=   0.0s\n",
      "[CV] END ...criterion=gini, max_depth=20, min_samples_leaf=5; total time=   0.0s\n",
      "[CV] END ...criterion=gini, max_depth=20, min_samples_leaf=5; total time=   0.0s\n",
      "[CV] END ...criterion=gini, max_depth=20, min_samples_leaf=5; total time=   0.0s\n",
      "[CV] END ...criterion=gini, max_depth=20, min_samples_leaf=5; total time=   0.0s\n",
      "[CV] END ...criterion=gini, max_depth=20, min_samples_leaf=5; total time=   0.0s\n",
      "[CV] END ...criterion=gini, max_depth=20, min_samples_leaf=5; total time=   0.0s\n",
      "[CV] END ..criterion=gini, max_depth=20, min_samples_leaf=10; total time=   0.0s\n",
      "[CV] END ..criterion=gini, max_depth=20, min_samples_leaf=10; total time=   0.0s\n",
      "[CV] END ..criterion=gini, max_depth=20, min_samples_leaf=10; total time=   0.0s\n",
      "[CV] END ..criterion=gini, max_depth=20, min_samples_leaf=10; total time=   0.0s\n",
      "[CV] END ..criterion=gini, max_depth=20, min_samples_leaf=10; total time=   0.0s\n",
      "[CV] END ..criterion=gini, max_depth=20, min_samples_leaf=10; total time=   0.0s\n",
      "[CV] END ..criterion=gini, max_depth=20, min_samples_leaf=10; total time=   0.0s\n",
      "[CV] END ..criterion=gini, max_depth=20, min_samples_leaf=10; total time=   0.0s\n",
      "[CV] END ..criterion=gini, max_depth=20, min_samples_leaf=10; total time=   0.0s\n",
      "[CV] END ..criterion=gini, max_depth=20, min_samples_leaf=10; total time=   0.0s\n",
      "[CV] END ..criterion=gini, max_depth=20, min_samples_leaf=20; total time=   0.0s\n",
      "[CV] END ..criterion=gini, max_depth=20, min_samples_leaf=20; total time=   0.0s\n",
      "[CV] END ..criterion=gini, max_depth=20, min_samples_leaf=20; total time=   0.0s\n",
      "[CV] END ..criterion=gini, max_depth=20, min_samples_leaf=20; total time=   0.0s\n",
      "[CV] END ..criterion=gini, max_depth=20, min_samples_leaf=20; total time=   0.0s\n",
      "[CV] END ..criterion=gini, max_depth=20, min_samples_leaf=20; total time=   0.0s\n",
      "[CV] END ..criterion=gini, max_depth=20, min_samples_leaf=20; total time=   0.0s\n",
      "[CV] END ..criterion=gini, max_depth=20, min_samples_leaf=20; total time=   0.0s\n",
      "[CV] END ..criterion=gini, max_depth=20, min_samples_leaf=20; total time=   0.0s\n",
      "[CV] END ..criterion=gini, max_depth=20, min_samples_leaf=20; total time=   0.0s\n",
      "[CV] END ..criterion=gini, max_depth=20, min_samples_leaf=50; total time=   0.0s\n",
      "[CV] END ..criterion=gini, max_depth=20, min_samples_leaf=50; total time=   0.0s\n",
      "[CV] END ..criterion=gini, max_depth=20, min_samples_leaf=50; total time=   0.0s\n",
      "[CV] END ..criterion=gini, max_depth=20, min_samples_leaf=50; total time=   0.0s\n",
      "[CV] END ..criterion=gini, max_depth=20, min_samples_leaf=50; total time=   0.0s\n",
      "[CV] END ..criterion=gini, max_depth=20, min_samples_leaf=50; total time=   0.0s\n",
      "[CV] END ..criterion=gini, max_depth=20, min_samples_leaf=50; total time=   0.0s\n",
      "[CV] END ..criterion=gini, max_depth=20, min_samples_leaf=50; total time=   0.0s\n",
      "[CV] END ..criterion=gini, max_depth=20, min_samples_leaf=50; total time=   0.0s\n",
      "[CV] END ..criterion=gini, max_depth=20, min_samples_leaf=50; total time=   0.0s\n",
      "[CV] END .criterion=gini, max_depth=20, min_samples_leaf=100; total time=   0.0s\n",
      "[CV] END .criterion=gini, max_depth=20, min_samples_leaf=100; total time=   0.0s\n",
      "[CV] END .criterion=gini, max_depth=20, min_samples_leaf=100; total time=   0.0s\n",
      "[CV] END .criterion=gini, max_depth=20, min_samples_leaf=100; total time=   0.0s\n",
      "[CV] END .criterion=gini, max_depth=20, min_samples_leaf=100; total time=   0.0s\n",
      "[CV] END .criterion=gini, max_depth=20, min_samples_leaf=100; total time=   0.0s\n",
      "[CV] END .criterion=gini, max_depth=20, min_samples_leaf=100; total time=   0.0s\n",
      "[CV] END .criterion=gini, max_depth=20, min_samples_leaf=100; total time=   0.0s\n",
      "[CV] END .criterion=gini, max_depth=20, min_samples_leaf=100; total time=   0.0s\n",
      "[CV] END .criterion=gini, max_depth=20, min_samples_leaf=100; total time=   0.0s\n",
      "[CV] END .criterion=entropy, max_depth=2, min_samples_leaf=5; total time=   0.0s\n",
      "[CV] END .criterion=entropy, max_depth=2, min_samples_leaf=5; total time=   0.0s\n",
      "[CV] END .criterion=entropy, max_depth=2, min_samples_leaf=5; total time=   0.0s\n",
      "[CV] END .criterion=entropy, max_depth=2, min_samples_leaf=5; total time=   0.0s\n",
      "[CV] END .criterion=entropy, max_depth=2, min_samples_leaf=5; total time=   0.0s\n",
      "[CV] END .criterion=entropy, max_depth=2, min_samples_leaf=5; total time=   0.0s\n",
      "[CV] END .criterion=entropy, max_depth=2, min_samples_leaf=5; total time=   0.0s\n",
      "[CV] END .criterion=entropy, max_depth=2, min_samples_leaf=5; total time=   0.0s\n",
      "[CV] END .criterion=entropy, max_depth=2, min_samples_leaf=5; total time=   0.0s\n",
      "[CV] END .criterion=entropy, max_depth=2, min_samples_leaf=5; total time=   0.0s\n",
      "[CV] END criterion=entropy, max_depth=2, min_samples_leaf=10; total time=   0.0s\n",
      "[CV] END criterion=entropy, max_depth=2, min_samples_leaf=10; total time=   0.0s\n",
      "[CV] END criterion=entropy, max_depth=2, min_samples_leaf=10; total time=   0.0s\n",
      "[CV] END criterion=entropy, max_depth=2, min_samples_leaf=10; total time=   0.0s\n",
      "[CV] END criterion=entropy, max_depth=2, min_samples_leaf=10; total time=   0.0s\n",
      "[CV] END criterion=entropy, max_depth=2, min_samples_leaf=10; total time=   0.0s\n",
      "[CV] END criterion=entropy, max_depth=2, min_samples_leaf=10; total time=   0.0s\n",
      "[CV] END criterion=entropy, max_depth=2, min_samples_leaf=10; total time=   0.0s\n",
      "[CV] END criterion=entropy, max_depth=2, min_samples_leaf=10; total time=   0.0s\n",
      "[CV] END criterion=entropy, max_depth=2, min_samples_leaf=10; total time=   0.0s\n",
      "[CV] END criterion=entropy, max_depth=2, min_samples_leaf=20; total time=   0.0s\n",
      "[CV] END criterion=entropy, max_depth=2, min_samples_leaf=20; total time=   0.0s\n",
      "[CV] END criterion=entropy, max_depth=2, min_samples_leaf=20; total time=   0.0s\n",
      "[CV] END criterion=entropy, max_depth=2, min_samples_leaf=20; total time=   0.0s\n",
      "[CV] END criterion=entropy, max_depth=2, min_samples_leaf=20; total time=   0.0s\n",
      "[CV] END criterion=entropy, max_depth=2, min_samples_leaf=20; total time=   0.0s\n",
      "[CV] END criterion=entropy, max_depth=2, min_samples_leaf=20; total time=   0.0s\n",
      "[CV] END criterion=entropy, max_depth=2, min_samples_leaf=20; total time=   0.0s\n",
      "[CV] END criterion=entropy, max_depth=2, min_samples_leaf=20; total time=   0.0s\n",
      "[CV] END criterion=entropy, max_depth=2, min_samples_leaf=20; total time=   0.0s\n",
      "[CV] END criterion=entropy, max_depth=2, min_samples_leaf=50; total time=   0.0s\n",
      "[CV] END criterion=entropy, max_depth=2, min_samples_leaf=50; total time=   0.0s\n",
      "[CV] END criterion=entropy, max_depth=2, min_samples_leaf=50; total time=   0.0s\n",
      "[CV] END criterion=entropy, max_depth=2, min_samples_leaf=50; total time=   0.0s\n",
      "[CV] END criterion=entropy, max_depth=2, min_samples_leaf=50; total time=   0.0s\n",
      "[CV] END criterion=entropy, max_depth=2, min_samples_leaf=50; total time=   0.0s\n",
      "[CV] END criterion=entropy, max_depth=2, min_samples_leaf=50; total time=   0.0s\n",
      "[CV] END criterion=entropy, max_depth=2, min_samples_leaf=50; total time=   0.0s\n",
      "[CV] END criterion=entropy, max_depth=2, min_samples_leaf=50; total time=   0.0s\n",
      "[CV] END criterion=entropy, max_depth=2, min_samples_leaf=50; total time=   0.0s\n",
      "[CV] END criterion=entropy, max_depth=2, min_samples_leaf=100; total time=   0.0s\n",
      "[CV] END criterion=entropy, max_depth=2, min_samples_leaf=100; total time=   0.0s\n",
      "[CV] END criterion=entropy, max_depth=2, min_samples_leaf=100; total time=   0.0s\n",
      "[CV] END criterion=entropy, max_depth=2, min_samples_leaf=100; total time=   0.0s\n",
      "[CV] END criterion=entropy, max_depth=2, min_samples_leaf=100; total time=   0.0s\n",
      "[CV] END criterion=entropy, max_depth=2, min_samples_leaf=100; total time=   0.0s\n",
      "[CV] END criterion=entropy, max_depth=2, min_samples_leaf=100; total time=   0.0s\n",
      "[CV] END criterion=entropy, max_depth=2, min_samples_leaf=100; total time=   0.0s\n",
      "[CV] END criterion=entropy, max_depth=2, min_samples_leaf=100; total time=   0.0s\n",
      "[CV] END criterion=entropy, max_depth=2, min_samples_leaf=100; total time=   0.0s\n",
      "[CV] END .criterion=entropy, max_depth=3, min_samples_leaf=5; total time=   0.0s\n",
      "[CV] END .criterion=entropy, max_depth=3, min_samples_leaf=5; total time=   0.0s\n",
      "[CV] END .criterion=entropy, max_depth=3, min_samples_leaf=5; total time=   0.0s\n",
      "[CV] END .criterion=entropy, max_depth=3, min_samples_leaf=5; total time=   0.0s\n",
      "[CV] END .criterion=entropy, max_depth=3, min_samples_leaf=5; total time=   0.0s\n",
      "[CV] END .criterion=entropy, max_depth=3, min_samples_leaf=5; total time=   0.0s\n",
      "[CV] END .criterion=entropy, max_depth=3, min_samples_leaf=5; total time=   0.0s\n",
      "[CV] END .criterion=entropy, max_depth=3, min_samples_leaf=5; total time=   0.0s\n",
      "[CV] END .criterion=entropy, max_depth=3, min_samples_leaf=5; total time=   0.0s\n",
      "[CV] END .criterion=entropy, max_depth=3, min_samples_leaf=5; total time=   0.0s\n",
      "[CV] END criterion=entropy, max_depth=3, min_samples_leaf=10; total time=   0.0s\n",
      "[CV] END criterion=entropy, max_depth=3, min_samples_leaf=10; total time=   0.0s\n",
      "[CV] END criterion=entropy, max_depth=3, min_samples_leaf=10; total time=   0.0s\n",
      "[CV] END criterion=entropy, max_depth=3, min_samples_leaf=10; total time=   0.0s\n",
      "[CV] END criterion=entropy, max_depth=3, min_samples_leaf=10; total time=   0.0s\n",
      "[CV] END criterion=entropy, max_depth=3, min_samples_leaf=10; total time=   0.0s\n",
      "[CV] END criterion=entropy, max_depth=3, min_samples_leaf=10; total time=   0.0s\n",
      "[CV] END criterion=entropy, max_depth=3, min_samples_leaf=10; total time=   0.0s\n",
      "[CV] END criterion=entropy, max_depth=3, min_samples_leaf=10; total time=   0.0s\n",
      "[CV] END criterion=entropy, max_depth=3, min_samples_leaf=10; total time=   0.0s\n",
      "[CV] END criterion=entropy, max_depth=3, min_samples_leaf=20; total time=   0.0s\n",
      "[CV] END criterion=entropy, max_depth=3, min_samples_leaf=20; total time=   0.0s\n",
      "[CV] END criterion=entropy, max_depth=3, min_samples_leaf=20; total time=   0.0s\n",
      "[CV] END criterion=entropy, max_depth=3, min_samples_leaf=20; total time=   0.0s\n",
      "[CV] END criterion=entropy, max_depth=3, min_samples_leaf=20; total time=   0.0s\n",
      "[CV] END criterion=entropy, max_depth=3, min_samples_leaf=20; total time=   0.0s\n",
      "[CV] END criterion=entropy, max_depth=3, min_samples_leaf=20; total time=   0.0s\n",
      "[CV] END criterion=entropy, max_depth=3, min_samples_leaf=20; total time=   0.0s\n",
      "[CV] END criterion=entropy, max_depth=3, min_samples_leaf=20; total time=   0.0s\n",
      "[CV] END criterion=entropy, max_depth=3, min_samples_leaf=20; total time=   0.0s\n",
      "[CV] END criterion=entropy, max_depth=3, min_samples_leaf=50; total time=   0.0s\n",
      "[CV] END criterion=entropy, max_depth=3, min_samples_leaf=50; total time=   0.0s\n",
      "[CV] END criterion=entropy, max_depth=3, min_samples_leaf=50; total time=   0.0s\n",
      "[CV] END criterion=entropy, max_depth=3, min_samples_leaf=50; total time=   0.0s\n",
      "[CV] END criterion=entropy, max_depth=3, min_samples_leaf=50; total time=   0.0s\n",
      "[CV] END criterion=entropy, max_depth=3, min_samples_leaf=50; total time=   0.0s\n",
      "[CV] END criterion=entropy, max_depth=3, min_samples_leaf=50; total time=   0.0s\n",
      "[CV] END criterion=entropy, max_depth=3, min_samples_leaf=50; total time=   0.0s\n",
      "[CV] END criterion=entropy, max_depth=3, min_samples_leaf=50; total time=   0.0s\n",
      "[CV] END criterion=entropy, max_depth=3, min_samples_leaf=50; total time=   0.0s\n",
      "[CV] END criterion=entropy, max_depth=3, min_samples_leaf=100; total time=   0.0s\n",
      "[CV] END criterion=entropy, max_depth=3, min_samples_leaf=100; total time=   0.0s\n",
      "[CV] END criterion=entropy, max_depth=3, min_samples_leaf=100; total time=   0.0s\n",
      "[CV] END criterion=entropy, max_depth=3, min_samples_leaf=100; total time=   0.0s\n",
      "[CV] END criterion=entropy, max_depth=3, min_samples_leaf=100; total time=   0.0s\n",
      "[CV] END criterion=entropy, max_depth=3, min_samples_leaf=100; total time=   0.0s\n",
      "[CV] END criterion=entropy, max_depth=3, min_samples_leaf=100; total time=   0.0s\n",
      "[CV] END criterion=entropy, max_depth=3, min_samples_leaf=100; total time=   0.0s\n",
      "[CV] END criterion=entropy, max_depth=3, min_samples_leaf=100; total time=   0.0s\n",
      "[CV] END criterion=entropy, max_depth=3, min_samples_leaf=100; total time=   0.0s\n",
      "[CV] END .criterion=entropy, max_depth=5, min_samples_leaf=5; total time=   0.0s\n",
      "[CV] END .criterion=entropy, max_depth=5, min_samples_leaf=5; total time=   0.0s\n",
      "[CV] END .criterion=entropy, max_depth=5, min_samples_leaf=5; total time=   0.0s\n",
      "[CV] END .criterion=entropy, max_depth=5, min_samples_leaf=5; total time=   0.0s\n",
      "[CV] END .criterion=entropy, max_depth=5, min_samples_leaf=5; total time=   0.0s\n",
      "[CV] END .criterion=entropy, max_depth=5, min_samples_leaf=5; total time=   0.0s\n",
      "[CV] END .criterion=entropy, max_depth=5, min_samples_leaf=5; total time=   0.0s\n",
      "[CV] END .criterion=entropy, max_depth=5, min_samples_leaf=5; total time=   0.0s\n",
      "[CV] END .criterion=entropy, max_depth=5, min_samples_leaf=5; total time=   0.0s\n",
      "[CV] END .criterion=entropy, max_depth=5, min_samples_leaf=5; total time=   0.0s\n",
      "[CV] END criterion=entropy, max_depth=5, min_samples_leaf=10; total time=   0.0s\n",
      "[CV] END criterion=entropy, max_depth=5, min_samples_leaf=10; total time=   0.0s\n",
      "[CV] END criterion=entropy, max_depth=5, min_samples_leaf=10; total time=   0.0s\n",
      "[CV] END criterion=entropy, max_depth=5, min_samples_leaf=10; total time=   0.0s\n",
      "[CV] END criterion=entropy, max_depth=5, min_samples_leaf=10; total time=   0.0s\n",
      "[CV] END criterion=entropy, max_depth=5, min_samples_leaf=10; total time=   0.0s\n",
      "[CV] END criterion=entropy, max_depth=5, min_samples_leaf=10; total time=   0.0s\n",
      "[CV] END criterion=entropy, max_depth=5, min_samples_leaf=10; total time=   0.0s\n",
      "[CV] END criterion=entropy, max_depth=5, min_samples_leaf=10; total time=   0.0s\n",
      "[CV] END criterion=entropy, max_depth=5, min_samples_leaf=10; total time=   0.0s\n",
      "[CV] END criterion=entropy, max_depth=5, min_samples_leaf=20; total time=   0.0s\n",
      "[CV] END criterion=entropy, max_depth=5, min_samples_leaf=20; total time=   0.0s\n",
      "[CV] END criterion=entropy, max_depth=5, min_samples_leaf=20; total time=   0.0s\n",
      "[CV] END criterion=entropy, max_depth=5, min_samples_leaf=20; total time=   0.0s\n",
      "[CV] END criterion=entropy, max_depth=5, min_samples_leaf=20; total time=   0.0s\n",
      "[CV] END criterion=entropy, max_depth=5, min_samples_leaf=20; total time=   0.0s\n",
      "[CV] END criterion=entropy, max_depth=5, min_samples_leaf=20; total time=   0.0s\n",
      "[CV] END criterion=entropy, max_depth=5, min_samples_leaf=20; total time=   0.0s\n",
      "[CV] END criterion=entropy, max_depth=5, min_samples_leaf=20; total time=   0.0s\n",
      "[CV] END criterion=entropy, max_depth=5, min_samples_leaf=20; total time=   0.0s\n",
      "[CV] END criterion=entropy, max_depth=5, min_samples_leaf=50; total time=   0.0s\n",
      "[CV] END criterion=entropy, max_depth=5, min_samples_leaf=50; total time=   0.0s\n",
      "[CV] END criterion=entropy, max_depth=5, min_samples_leaf=50; total time=   0.0s\n",
      "[CV] END criterion=entropy, max_depth=5, min_samples_leaf=50; total time=   0.0s\n",
      "[CV] END criterion=entropy, max_depth=5, min_samples_leaf=50; total time=   0.0s\n",
      "[CV] END criterion=entropy, max_depth=5, min_samples_leaf=50; total time=   0.0s\n",
      "[CV] END criterion=entropy, max_depth=5, min_samples_leaf=50; total time=   0.0s\n",
      "[CV] END criterion=entropy, max_depth=5, min_samples_leaf=50; total time=   0.0s\n",
      "[CV] END criterion=entropy, max_depth=5, min_samples_leaf=50; total time=   0.0s\n",
      "[CV] END criterion=entropy, max_depth=5, min_samples_leaf=50; total time=   0.0s\n",
      "[CV] END criterion=entropy, max_depth=5, min_samples_leaf=100; total time=   0.0s\n",
      "[CV] END criterion=entropy, max_depth=5, min_samples_leaf=100; total time=   0.0s\n",
      "[CV] END criterion=entropy, max_depth=5, min_samples_leaf=100; total time=   0.0s\n",
      "[CV] END criterion=entropy, max_depth=5, min_samples_leaf=100; total time=   0.0s\n",
      "[CV] END criterion=entropy, max_depth=5, min_samples_leaf=100; total time=   0.0s\n",
      "[CV] END criterion=entropy, max_depth=5, min_samples_leaf=100; total time=   0.0s\n",
      "[CV] END criterion=entropy, max_depth=5, min_samples_leaf=100; total time=   0.0s\n",
      "[CV] END criterion=entropy, max_depth=5, min_samples_leaf=100; total time=   0.0s\n",
      "[CV] END criterion=entropy, max_depth=5, min_samples_leaf=100; total time=   0.0s\n",
      "[CV] END criterion=entropy, max_depth=5, min_samples_leaf=100; total time=   0.0s\n",
      "[CV] END criterion=entropy, max_depth=10, min_samples_leaf=5; total time=   0.0s\n",
      "[CV] END criterion=entropy, max_depth=10, min_samples_leaf=5; total time=   0.0s\n",
      "[CV] END criterion=entropy, max_depth=10, min_samples_leaf=5; total time=   0.0s\n",
      "[CV] END criterion=entropy, max_depth=10, min_samples_leaf=5; total time=   0.1s\n",
      "[CV] END criterion=entropy, max_depth=10, min_samples_leaf=5; total time=   0.0s\n",
      "[CV] END criterion=entropy, max_depth=10, min_samples_leaf=5; total time=   0.0s\n",
      "[CV] END criterion=entropy, max_depth=10, min_samples_leaf=5; total time=   0.0s\n",
      "[CV] END criterion=entropy, max_depth=10, min_samples_leaf=5; total time=   0.0s\n",
      "[CV] END criterion=entropy, max_depth=10, min_samples_leaf=5; total time=   0.0s\n",
      "[CV] END criterion=entropy, max_depth=10, min_samples_leaf=5; total time=   0.0s\n",
      "[CV] END criterion=entropy, max_depth=10, min_samples_leaf=10; total time=   0.0s\n",
      "[CV] END criterion=entropy, max_depth=10, min_samples_leaf=10; total time=   0.0s\n",
      "[CV] END criterion=entropy, max_depth=10, min_samples_leaf=10; total time=   0.0s\n",
      "[CV] END criterion=entropy, max_depth=10, min_samples_leaf=10; total time=   0.0s\n",
      "[CV] END criterion=entropy, max_depth=10, min_samples_leaf=10; total time=   0.0s\n",
      "[CV] END criterion=entropy, max_depth=10, min_samples_leaf=10; total time=   0.0s\n",
      "[CV] END criterion=entropy, max_depth=10, min_samples_leaf=10; total time=   0.0s\n",
      "[CV] END criterion=entropy, max_depth=10, min_samples_leaf=10; total time=   0.0s\n",
      "[CV] END criterion=entropy, max_depth=10, min_samples_leaf=10; total time=   0.0s\n",
      "[CV] END criterion=entropy, max_depth=10, min_samples_leaf=10; total time=   0.0s\n",
      "[CV] END criterion=entropy, max_depth=10, min_samples_leaf=20; total time=   0.1s\n",
      "[CV] END criterion=entropy, max_depth=10, min_samples_leaf=20; total time=   0.1s\n",
      "[CV] END criterion=entropy, max_depth=10, min_samples_leaf=20; total time=   0.0s\n",
      "[CV] END criterion=entropy, max_depth=10, min_samples_leaf=20; total time=   0.0s\n",
      "[CV] END criterion=entropy, max_depth=10, min_samples_leaf=20; total time=   0.0s\n",
      "[CV] END criterion=entropy, max_depth=10, min_samples_leaf=20; total time=   0.0s\n",
      "[CV] END criterion=entropy, max_depth=10, min_samples_leaf=20; total time=   0.0s\n",
      "[CV] END criterion=entropy, max_depth=10, min_samples_leaf=20; total time=   0.0s\n",
      "[CV] END criterion=entropy, max_depth=10, min_samples_leaf=20; total time=   0.0s\n",
      "[CV] END criterion=entropy, max_depth=10, min_samples_leaf=20; total time=   0.0s\n",
      "[CV] END criterion=entropy, max_depth=10, min_samples_leaf=50; total time=   0.0s\n",
      "[CV] END criterion=entropy, max_depth=10, min_samples_leaf=50; total time=   0.0s\n",
      "[CV] END criterion=entropy, max_depth=10, min_samples_leaf=50; total time=   0.0s\n",
      "[CV] END criterion=entropy, max_depth=10, min_samples_leaf=50; total time=   0.0s\n",
      "[CV] END criterion=entropy, max_depth=10, min_samples_leaf=50; total time=   0.0s\n",
      "[CV] END criterion=entropy, max_depth=10, min_samples_leaf=50; total time=   0.0s\n",
      "[CV] END criterion=entropy, max_depth=10, min_samples_leaf=50; total time=   0.0s\n",
      "[CV] END criterion=entropy, max_depth=10, min_samples_leaf=50; total time=   0.0s\n",
      "[CV] END criterion=entropy, max_depth=10, min_samples_leaf=50; total time=   0.0s\n",
      "[CV] END criterion=entropy, max_depth=10, min_samples_leaf=50; total time=   0.0s\n",
      "[CV] END criterion=entropy, max_depth=10, min_samples_leaf=100; total time=   0.0s\n",
      "[CV] END criterion=entropy, max_depth=10, min_samples_leaf=100; total time=   0.0s\n",
      "[CV] END criterion=entropy, max_depth=10, min_samples_leaf=100; total time=   0.0s\n",
      "[CV] END criterion=entropy, max_depth=10, min_samples_leaf=100; total time=   0.0s\n",
      "[CV] END criterion=entropy, max_depth=10, min_samples_leaf=100; total time=   0.0s\n",
      "[CV] END criterion=entropy, max_depth=10, min_samples_leaf=100; total time=   0.0s\n",
      "[CV] END criterion=entropy, max_depth=10, min_samples_leaf=100; total time=   0.0s\n",
      "[CV] END criterion=entropy, max_depth=10, min_samples_leaf=100; total time=   0.0s\n",
      "[CV] END criterion=entropy, max_depth=10, min_samples_leaf=100; total time=   0.0s\n",
      "[CV] END criterion=entropy, max_depth=10, min_samples_leaf=100; total time=   0.0s\n",
      "[CV] END criterion=entropy, max_depth=20, min_samples_leaf=5; total time=   0.0s\n",
      "[CV] END criterion=entropy, max_depth=20, min_samples_leaf=5; total time=   0.0s\n",
      "[CV] END criterion=entropy, max_depth=20, min_samples_leaf=5; total time=   0.0s\n",
      "[CV] END criterion=entropy, max_depth=20, min_samples_leaf=5; total time=   0.0s\n",
      "[CV] END criterion=entropy, max_depth=20, min_samples_leaf=5; total time=   0.0s\n",
      "[CV] END criterion=entropy, max_depth=20, min_samples_leaf=5; total time=   0.0s\n",
      "[CV] END criterion=entropy, max_depth=20, min_samples_leaf=5; total time=   0.1s\n",
      "[CV] END criterion=entropy, max_depth=20, min_samples_leaf=5; total time=   0.0s\n",
      "[CV] END criterion=entropy, max_depth=20, min_samples_leaf=5; total time=   0.0s\n",
      "[CV] END criterion=entropy, max_depth=20, min_samples_leaf=5; total time=   0.0s\n",
      "[CV] END criterion=entropy, max_depth=20, min_samples_leaf=10; total time=   0.0s\n",
      "[CV] END criterion=entropy, max_depth=20, min_samples_leaf=10; total time=   0.0s\n",
      "[CV] END criterion=entropy, max_depth=20, min_samples_leaf=10; total time=   0.0s\n",
      "[CV] END criterion=entropy, max_depth=20, min_samples_leaf=10; total time=   0.0s\n",
      "[CV] END criterion=entropy, max_depth=20, min_samples_leaf=10; total time=   0.0s\n",
      "[CV] END criterion=entropy, max_depth=20, min_samples_leaf=10; total time=   0.0s\n",
      "[CV] END criterion=entropy, max_depth=20, min_samples_leaf=10; total time=   0.0s\n",
      "[CV] END criterion=entropy, max_depth=20, min_samples_leaf=10; total time=   0.0s\n",
      "[CV] END criterion=entropy, max_depth=20, min_samples_leaf=10; total time=   0.0s\n",
      "[CV] END criterion=entropy, max_depth=20, min_samples_leaf=10; total time=   0.0s\n",
      "[CV] END criterion=entropy, max_depth=20, min_samples_leaf=20; total time=   0.0s\n",
      "[CV] END criterion=entropy, max_depth=20, min_samples_leaf=20; total time=   0.0s\n",
      "[CV] END criterion=entropy, max_depth=20, min_samples_leaf=20; total time=   0.0s\n",
      "[CV] END criterion=entropy, max_depth=20, min_samples_leaf=20; total time=   0.0s\n",
      "[CV] END criterion=entropy, max_depth=20, min_samples_leaf=20; total time=   0.0s\n",
      "[CV] END criterion=entropy, max_depth=20, min_samples_leaf=20; total time=   0.0s\n",
      "[CV] END criterion=entropy, max_depth=20, min_samples_leaf=20; total time=   0.0s\n",
      "[CV] END criterion=entropy, max_depth=20, min_samples_leaf=20; total time=   0.0s\n",
      "[CV] END criterion=entropy, max_depth=20, min_samples_leaf=20; total time=   0.0s\n",
      "[CV] END criterion=entropy, max_depth=20, min_samples_leaf=20; total time=   0.0s\n",
      "[CV] END criterion=entropy, max_depth=20, min_samples_leaf=50; total time=   0.0s\n",
      "[CV] END criterion=entropy, max_depth=20, min_samples_leaf=50; total time=   0.0s\n",
      "[CV] END criterion=entropy, max_depth=20, min_samples_leaf=50; total time=   0.0s\n",
      "[CV] END criterion=entropy, max_depth=20, min_samples_leaf=50; total time=   0.0s\n",
      "[CV] END criterion=entropy, max_depth=20, min_samples_leaf=50; total time=   0.0s\n",
      "[CV] END criterion=entropy, max_depth=20, min_samples_leaf=50; total time=   0.0s\n",
      "[CV] END criterion=entropy, max_depth=20, min_samples_leaf=50; total time=   0.0s\n",
      "[CV] END criterion=entropy, max_depth=20, min_samples_leaf=50; total time=   0.0s\n",
      "[CV] END criterion=entropy, max_depth=20, min_samples_leaf=50; total time=   0.0s\n",
      "[CV] END criterion=entropy, max_depth=20, min_samples_leaf=50; total time=   0.0s\n",
      "[CV] END criterion=entropy, max_depth=20, min_samples_leaf=100; total time=   0.0s\n",
      "[CV] END criterion=entropy, max_depth=20, min_samples_leaf=100; total time=   0.0s\n",
      "[CV] END criterion=entropy, max_depth=20, min_samples_leaf=100; total time=   0.0s\n",
      "[CV] END criterion=entropy, max_depth=20, min_samples_leaf=100; total time=   0.0s\n",
      "[CV] END criterion=entropy, max_depth=20, min_samples_leaf=100; total time=   0.0s\n",
      "[CV] END criterion=entropy, max_depth=20, min_samples_leaf=100; total time=   0.0s\n",
      "[CV] END criterion=entropy, max_depth=20, min_samples_leaf=100; total time=   0.0s\n",
      "[CV] END criterion=entropy, max_depth=20, min_samples_leaf=100; total time=   0.0s\n",
      "[CV] END criterion=entropy, max_depth=20, min_samples_leaf=100; total time=   0.0s\n",
      "[CV] END criterion=entropy, max_depth=20, min_samples_leaf=100; total time=   0.0s\n"
     ]
    },
    {
     "data": {
      "text/plain": [
       "GridSearchCV(cv=10, estimator=DecisionTreeClassifier(),\n",
       "             param_grid={'criterion': ['gini', 'entropy'],\n",
       "                         'max_depth': [2, 3, 5, 10, 20],\n",
       "                         'min_samples_leaf': [5, 10, 20, 50, 100]},\n",
       "             scoring='accuracy', verbose=2)"
      ]
     },
     "execution_count": 75,
     "metadata": {},
     "output_type": "execute_result"
    }
   ],
   "source": [
    "grid_search.fit(X_train,y_train)"
   ]
  },
  {
   "cell_type": "code",
   "execution_count": 76,
   "id": "1b0506ac",
   "metadata": {},
   "outputs": [
    {
     "name": "stdout",
     "output_type": "stream",
     "text": [
      "DecisionTreeClassifier(criterion='entropy', max_depth=20, min_samples_leaf=5)\n"
     ]
    }
   ],
   "source": [
    "print(grid_search.best_estimator_)"
   ]
  },
  {
   "cell_type": "code",
   "execution_count": 77,
   "id": "c01cf354",
   "metadata": {},
   "outputs": [
    {
     "name": "stdout",
     "output_type": "stream",
     "text": [
      "0.9173942197692453\n"
     ]
    }
   ],
   "source": [
    "print(grid_search.best_score_)"
   ]
  },
  {
   "cell_type": "code",
   "execution_count": null,
   "id": "4c99b4b6",
   "metadata": {},
   "outputs": [],
   "source": []
  }
 ],
 "metadata": {
  "kernelspec": {
   "display_name": "Python 3 (ipykernel)",
   "language": "python",
   "name": "python3"
  },
  "language_info": {
   "codemirror_mode": {
    "name": "ipython",
    "version": 3
   },
   "file_extension": ".py",
   "mimetype": "text/x-python",
   "name": "python",
   "nbconvert_exporter": "python",
   "pygments_lexer": "ipython3",
   "version": "3.9.7"
  }
 },
 "nbformat": 4,
 "nbformat_minor": 5
}
